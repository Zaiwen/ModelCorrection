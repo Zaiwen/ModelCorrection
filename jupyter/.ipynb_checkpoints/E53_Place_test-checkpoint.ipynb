{
 "cells": [
  {
   "cell_type": "code",
   "execution_count": 2,
   "id": "298c86e4",
   "metadata": {},
   "outputs": [],
   "source": [
    "import spacy\n",
    "import os\n",
    "import pandas as pd"
   ]
  },
  {
   "cell_type": "code",
   "execution_count": 3,
   "id": "5b695e0d",
   "metadata": {},
   "outputs": [],
   "source": [
    "nlp = spacy.load(\"en_core_web_md\")"
   ]
  },
  {
   "cell_type": "code",
   "execution_count": 4,
   "id": "d7cfbec8",
   "metadata": {},
   "outputs": [],
   "source": [
    "\"\"\"\n",
    "E12_Production ---P7_took_place_at---> E53_Place (s05 s28)\n",
    "E21_Person ----P74_has_current_or_former_residence---> E53_Place (s20)\n",
    "E67_Birth ----P7_took_place_at---> E53_Place (s26)\n",
    "E22_Man-Made_Object ----P55_has_current_location---> E53_Place (s28)\n",
    "s05 Geography\n",
    "s20 residence\n",
    "s26 birthPlaceCity\n",
    "s28 Place Made  Home Location\n",
    "\"\"\"\n",
    "rel1 = (\"E12_Production\", \"P7_took_place_at\", \"E53_Place\")\n",
    "rel2 = (\"E21_Person\", \"P74_has_current_or_former_residence\", \"E53_Place\")\n",
    "rel3 = (\"E67_Birth\", \"P7_took_place_at\", \"E53_Place\")\n",
    "rel4 = (\"E22_Man-Made_Object\", \"P55_has_current_location\", \"E53_Place\")\n",
    "\n",
    "\n"
   ]
  },
  {
   "cell_type": "code",
   "execution_count": 6,
   "id": "be7dcf46",
   "metadata": {},
   "outputs": [
    {
     "name": "stdout",
     "output_type": "stream",
     "text": [
      "Geography\n",
      "('E12_Production', 'P7_took_place_at', 'E53_Place') 0.30738808493949277\n",
      "('E21_Person', 'P74_has_current_or_former_residence', 'E53_Place') 0.41204047172792546\n",
      "('E67_Birth', 'P7_took_place_at', 'E53_Place') 0.4055021337231949\n",
      "('E22_Man-Made_Object', 'P55_has_current_location', 'E53_Place') 0.515952592671373\n",
      "\n",
      "residence\n",
      "('E12_Production', 'P7_took_place_at', 'E53_Place') 0.5721951910617108\n",
      "('E21_Person', 'P74_has_current_or_former_residence', 'E53_Place') 1.061314856375658\n",
      "('E67_Birth', 'P7_took_place_at', 'E53_Place') 0.7003043649043998\n",
      "('E22_Man-Made_Object', 'P55_has_current_location', 'E53_Place') 0.7320324345459935\n",
      "\n",
      "birthPlaceCity\n",
      "('E12_Production', 'P7_took_place_at', 'E53_Place') 0.961828288057294\n",
      "('E21_Person', 'P74_has_current_or_former_residence', 'E53_Place') 1.1095587846360688\n",
      "('E67_Birth', 'P7_took_place_at', 'E53_Place') 1.4222780214280806\n",
      "('E22_Man-Made_Object', 'P55_has_current_location', 'E53_Place') 1.1606722734410417\n",
      "\n",
      "Place Made\n",
      "('E12_Production', 'P7_took_place_at', 'E53_Place') 1.1441767528752147\n",
      "('E21_Person', 'P74_has_current_or_former_residence', 'E53_Place') 1.1405554718410877\n",
      "('E67_Birth', 'P7_took_place_at', 'E53_Place') 1.1512678044176117\n",
      "('E22_Man-Made_Object', 'P55_has_current_location', 'E53_Place') 1.2999963491961783\n",
      "\n",
      "Home Location\n",
      "('E12_Production', 'P7_took_place_at', 'E53_Place') 0.8554275197366538\n",
      "('E21_Person', 'P74_has_current_or_former_residence', 'E53_Place') 1.0065169173512931\n",
      "('E67_Birth', 'P7_took_place_at', 'E53_Place') 0.887222217491902\n",
      "('E22_Man-Made_Object', 'P55_has_current_location', 'E53_Place') 1.2096494415889176\n",
      "\n"
     ]
    }
   ],
   "source": [
    "def similarity_score(attr:str, rel:tuple):\n",
    "    def attr_seg(attr):\n",
    "        s = \"\"\n",
    "        if \" \" not in attr:\n",
    "            for c in attr:\n",
    "                if c.isupper():\n",
    "                    s += \" \"\n",
    "                s += c\n",
    "            return s.strip()\n",
    "        else:\n",
    "            return attr\n",
    "    \n",
    "    def rel_seg(r):\n",
    "        return \" \".join(r.split(\"_\")[1:])\n",
    "    \n",
    "    score = 0\n",
    "    score += nlp(attr_seg(attr)).similarity(nlp(rel_seg(rel[0])))\n",
    "    score += nlp(attr_seg(attr)).similarity(nlp(rel_seg(rel[1])))\n",
    "    \n",
    "    return score\n",
    "\n",
    "rels = [rel1, rel2, rel3, rel4]\n",
    "attrs = [\"Geography\", \"residence\", \"birthPlaceCity\", \"Place Made\", \"Home Location\"]\n",
    "\n",
    "for attr in attrs:\n",
    "    \n",
    "    print(attr)\n",
    "    for rel in rels:\n",
    "        score = similarity_score(attr, rel)\n",
    "        print(rel, score)\n",
    "    \n",
    "    print()\n"
   ]
  },
  {
   "cell_type": "code",
   "execution_count": 21,
   "id": "f835a051",
   "metadata": {},
   "outputs": [
    {
     "name": "stdout",
     "output_type": "stream",
     "text": [
      "birth Place City\n"
     ]
    }
   ],
   "source": []
  },
  {
   "cell_type": "code",
   "execution_count": null,
   "id": "a750f043",
   "metadata": {},
   "outputs": [],
   "source": []
  },
  {
   "cell_type": "code",
   "execution_count": null,
   "id": "a2fcdb6a",
   "metadata": {},
   "outputs": [],
   "source": []
  }
 ],
 "metadata": {
  "kernelspec": {
   "display_name": "Python 3 (ipykernel)",
   "language": "python",
   "name": "python3"
  },
  "language_info": {
   "codemirror_mode": {
    "name": "ipython",
    "version": 3
   },
   "file_extension": ".py",
   "mimetype": "text/x-python",
   "name": "python",
   "nbconvert_exporter": "python",
   "pygments_lexer": "ipython3",
   "version": "3.8.9"
  }
 },
 "nbformat": 4,
 "nbformat_minor": 5
}
