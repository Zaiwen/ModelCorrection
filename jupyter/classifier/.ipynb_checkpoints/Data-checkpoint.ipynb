{
 "cells": [
  {
   "cell_type": "code",
   "execution_count": 19,
   "id": "d840358e",
   "metadata": {},
   "outputs": [],
   "source": [
    "import os\n",
    "import pandas as pd\n",
    "os.chdir(r\"D:/exp_20211101/E52_Time-Span\")"
   ]
  },
  {
   "cell_type": "code",
   "execution_count": 5,
   "id": "13c8704e",
   "metadata": {},
   "outputs": [
    {
     "data": {
      "text/plain": [
       "['s12_date_made_E12.txt',\n",
       " 's13_birthYear_E67.txt',\n",
       " 's13_deathYear_E69.txt',\n",
       " 's15_birth_E67.txt',\n",
       " 's15_date_E12.txt',\n",
       " 's15_death_E69.txt',\n",
       " 's16_year_E12.txt',\n",
       " 's17_artist_birth_E67.txt',\n",
       " 's17_artist_death_E69.txt',\n",
       " 's17_artyear_E12.txt',\n",
       " 's18_birthDate_E67.txt',\n",
       " 's18_deathDate_E69.txt',\n",
       " 's19_birthDate_E67.txt',\n",
       " 's19_creationDate_E12.txt',\n",
       " 's19_deathDate_E69.txt',\n",
       " 's1_Begin Date_E67.txt',\n",
       " 's1_Dated_E12.txt',\n",
       " 's1_End Date_E69.txt',\n",
       " 's20_birth_date_E67.txt',\n",
       " 's20_death_date_E69.txt',\n",
       " 's20_Production_Year_E12.txt',\n",
       " 's21_birthDate_E67.txt',\n",
       " 's21_dateOfEndOfCreation_E12.txt',\n",
       " 's21_deathDate_E69.txt',\n",
       " 's22_Artwork_Year_E12.txt',\n",
       " 's23_AquisitionDate_E8.txt',\n",
       " 's23_bornDate_E67.txt',\n",
       " 's23_DateOfWork_E12.txt',\n",
       " 's23_deathDate_E69.txt',\n",
       " 's24_birth_date_E67.txt',\n",
       " 's24_death_date_E69.txt',\n",
       " 's24_made_E12.txt',\n",
       " 's25_BirthDate_E67.txt',\n",
       " 's25_Date_made_E12.txt',\n",
       " 's25_DeathDate_E69.txt',\n",
       " 's26_birthYear_E67.txt',\n",
       " 's26_deathYear_E69.txt',\n",
       " 's26_when-acquired_E8.txt',\n",
       " 's28_Maker Birth Date_E67.txt',\n",
       " 's28_Maker Death Date_E69.txt',\n",
       " 's29_Dated_E12.txt',\n",
       " 's2_Artist Birth Date_E67.txt',\n",
       " 's2_Artist Death Date_E69.txt',\n",
       " 's2_Object Latest Date_E12.txt',\n",
       " 's3_birthDate_E67.txt',\n",
       " 's3_deathDate_E69.txt',\n",
       " 's4_birthDate_E67.txt',\n",
       " 's4_creationDate_E12.txt',\n",
       " 's4_deathDate_E69.txt',\n",
       " 's5_Date_E12.txt',\n",
       " 's6_AquisitionDate_E8.txt',\n",
       " 's6_ArtistBornDate_E67.txt',\n",
       " 's6_ArtistDiedDate_E69.txt',\n",
       " 's6_DateOfWork_E12.txt',\n",
       " 's7_birth_year_E67.txt',\n",
       " 's7_dates_E12.txt',\n",
       " 's7_death_year_E69.txt',\n",
       " 's9_birthDate_E67.txt',\n",
       " 's9_deathDate_E69.txt']"
      ]
     },
     "execution_count": 5,
     "metadata": {},
     "output_type": "execute_result"
    }
   ],
   "source": [
    "os.listdir()"
   ]
  },
  {
   "cell_type": "code",
   "execution_count": null,
   "id": "4b79a4d9",
   "metadata": {},
   "outputs": [],
   "source": []
  },
  {
   "cell_type": "code",
   "execution_count": 20,
   "id": "126e32b9",
   "metadata": {},
   "outputs": [],
   "source": [
    "from Attribute import*"
   ]
  },
  {
   "cell_type": "code",
   "execution_count": 24,
   "id": "dcb18971",
   "metadata": {},
   "outputs": [],
   "source": []
  },
  {
   "cell_type": "code",
   "execution_count": 25,
   "id": "dca842dd",
   "metadata": {},
   "outputs": [
    {
     "data": {
      "text/plain": [
       "'s01:Begin Date'"
      ]
     },
     "execution_count": 25,
     "metadata": {},
     "output_type": "execute_result"
    }
   ],
   "source": [
    "attr1.name"
   ]
  },
  {
   "cell_type": "code",
   "execution_count": null,
   "id": "cc292b93",
   "metadata": {},
   "outputs": [],
   "source": []
  }
 ],
 "metadata": {
  "kernelspec": {
   "display_name": "Python 3 (ipykernel)",
   "language": "python",
   "name": "python3"
  },
  "language_info": {
   "codemirror_mode": {
    "name": "ipython",
    "version": 3
   },
   "file_extension": ".py",
   "mimetype": "text/x-python",
   "name": "python",
   "nbconvert_exporter": "python",
   "pygments_lexer": "ipython3",
   "version": "3.8.9"
  }
 },
 "nbformat": 4,
 "nbformat_minor": 5
}
