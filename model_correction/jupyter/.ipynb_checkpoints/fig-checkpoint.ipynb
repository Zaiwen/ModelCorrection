{
 "cells": [
  {
   "cell_type": "code",
   "execution_count": 1,
   "id": "9b7548b9",
   "metadata": {},
   "outputs": [],
   "source": [
    "import pandas as pd\n"
   ]
  },
  {
   "cell_type": "code",
   "execution_count": 2,
   "id": "78e916f6",
   "metadata": {},
   "outputs": [],
   "source": [
    "df1 = pd.read_excel(\"tab1.xlsx\")"
   ]
  },
  {
   "cell_type": "code",
   "execution_count": 3,
   "id": "2b8af062",
   "metadata": {},
   "outputs": [
    {
     "data": {
      "text/html": [
       "<div>\n",
       "<style scoped>\n",
       "    .dataframe tbody tr th:only-of-type {\n",
       "        vertical-align: middle;\n",
       "    }\n",
       "\n",
       "    .dataframe tbody tr th {\n",
       "        vertical-align: top;\n",
       "    }\n",
       "\n",
       "    .dataframe thead th {\n",
       "        text-align: right;\n",
       "    }\n",
       "</style>\n",
       "<table border=\"1\" class=\"dataframe\">\n",
       "  <thead>\n",
       "    <tr style=\"text-align: right;\">\n",
       "      <th></th>\n",
       "      <th>time(ns)</th>\n",
       "      <th>dTStrans</th>\n",
       "      <th>dTSorient</th>\n",
       "      <th>dTSEtot</th>\n",
       "      <th>dTSsix-dim</th>\n",
       "    </tr>\n",
       "  </thead>\n",
       "  <tbody>\n",
       "    <tr>\n",
       "      <th>0</th>\n",
       "      <td>1</td>\n",
       "      <td>-0.047901</td>\n",
       "      <td>-0.006420</td>\n",
       "      <td>-0.054321</td>\n",
       "      <td>-0.143359</td>\n",
       "    </tr>\n",
       "    <tr>\n",
       "      <th>1</th>\n",
       "      <td>10</td>\n",
       "      <td>-0.045988</td>\n",
       "      <td>-0.067792</td>\n",
       "      <td>-0.113780</td>\n",
       "      <td>-0.132685</td>\n",
       "    </tr>\n",
       "    <tr>\n",
       "      <th>2</th>\n",
       "      <td>20</td>\n",
       "      <td>-0.045747</td>\n",
       "      <td>-0.075029</td>\n",
       "      <td>-0.120776</td>\n",
       "      <td>-0.131347</td>\n",
       "    </tr>\n",
       "    <tr>\n",
       "      <th>3</th>\n",
       "      <td>30</td>\n",
       "      <td>-0.045729</td>\n",
       "      <td>-0.077609</td>\n",
       "      <td>-0.123338</td>\n",
       "      <td>-0.130953</td>\n",
       "    </tr>\n",
       "    <tr>\n",
       "      <th>4</th>\n",
       "      <td>40</td>\n",
       "      <td>-0.045622</td>\n",
       "      <td>-0.078911</td>\n",
       "      <td>-0.124533</td>\n",
       "      <td>-0.130704</td>\n",
       "    </tr>\n",
       "    <tr>\n",
       "      <th>5</th>\n",
       "      <td>50</td>\n",
       "      <td>-0.045628</td>\n",
       "      <td>-0.079723</td>\n",
       "      <td>-0.125351</td>\n",
       "      <td>-0.130653</td>\n",
       "    </tr>\n",
       "    <tr>\n",
       "      <th>6</th>\n",
       "      <td>60</td>\n",
       "      <td>-0.045597</td>\n",
       "      <td>-0.080198</td>\n",
       "      <td>-0.125795</td>\n",
       "      <td>-0.130502</td>\n",
       "    </tr>\n",
       "    <tr>\n",
       "      <th>7</th>\n",
       "      <td>70</td>\n",
       "      <td>-0.045578</td>\n",
       "      <td>-0.080525</td>\n",
       "      <td>-0.126103</td>\n",
       "      <td>-0.130437</td>\n",
       "    </tr>\n",
       "    <tr>\n",
       "      <th>8</th>\n",
       "      <td>80</td>\n",
       "      <td>-0.045565</td>\n",
       "      <td>-0.080774</td>\n",
       "      <td>-0.126339</td>\n",
       "      <td>-0.130366</td>\n",
       "    </tr>\n",
       "    <tr>\n",
       "      <th>9</th>\n",
       "      <td>90</td>\n",
       "      <td>-0.045568</td>\n",
       "      <td>-0.080960</td>\n",
       "      <td>-0.126527</td>\n",
       "      <td>-0.130332</td>\n",
       "    </tr>\n",
       "    <tr>\n",
       "      <th>10</th>\n",
       "      <td>100</td>\n",
       "      <td>-0.045574</td>\n",
       "      <td>-0.081072</td>\n",
       "      <td>-0.126646</td>\n",
       "      <td>-0.130300</td>\n",
       "    </tr>\n",
       "  </tbody>\n",
       "</table>\n",
       "</div>"
      ],
      "text/plain": [
       "    time(ns)  dTStrans  dTSorient   dTSEtot  dTSsix-dim\n",
       "0          1 -0.047901  -0.006420 -0.054321   -0.143359\n",
       "1         10 -0.045988  -0.067792 -0.113780   -0.132685\n",
       "2         20 -0.045747  -0.075029 -0.120776   -0.131347\n",
       "3         30 -0.045729  -0.077609 -0.123338   -0.130953\n",
       "4         40 -0.045622  -0.078911 -0.124533   -0.130704\n",
       "5         50 -0.045628  -0.079723 -0.125351   -0.130653\n",
       "6         60 -0.045597  -0.080198 -0.125795   -0.130502\n",
       "7         70 -0.045578  -0.080525 -0.126103   -0.130437\n",
       "8         80 -0.045565  -0.080774 -0.126339   -0.130366\n",
       "9         90 -0.045568  -0.080960 -0.126527   -0.130332\n",
       "10       100 -0.045574  -0.081072 -0.126646   -0.130300"
      ]
     },
     "execution_count": 3,
     "metadata": {},
     "output_type": "execute_result"
    }
   ],
   "source": [
    "df1"
   ]
  },
  {
   "cell_type": "code",
   "execution_count": 4,
   "id": "fc6aad77",
   "metadata": {},
   "outputs": [],
   "source": [
    "from matplotlib import pyplot as plt"
   ]
  },
  {
   "cell_type": "code",
   "execution_count": null,
   "id": "9196c279",
   "metadata": {},
   "outputs": [],
   "source": [
    "plt.plot(df1[\"time(ns)\"], df1[\"Esw\"],marker='o')\n",
    "plt.plot(df1[\"time(ns)\"], df1[\"Eww\"],marker='o')\n",
    "plt.plot(df1[\"time(ns)\"], df1[\"Etot\"],marker='o')\n",
    "plt.xlabel(\"Time(ns)\")\n",
    "plt.ylabel(\"E(kcal/mol/water)\")\n",
    "# plt.savefig('./E_conv.jpg')"
   ]
  },
  {
   "cell_type": "code",
   "execution_count": null,
   "id": "a98e4739",
   "metadata": {},
   "outputs": [],
   "source": []
  },
  {
   "cell_type": "code",
   "execution_count": null,
   "id": "b0714d99",
   "metadata": {},
   "outputs": [],
   "source": []
  },
  {
   "cell_type": "code",
   "execution_count": null,
   "id": "e2d22b55",
   "metadata": {},
   "outputs": [],
   "source": []
  }
 ],
 "metadata": {
  "kernelspec": {
   "display_name": "Python 3 (ipykernel)",
   "language": "python",
   "name": "python3"
  },
  "language_info": {
   "codemirror_mode": {
    "name": "ipython",
    "version": 3
   },
   "file_extension": ".py",
   "mimetype": "text/x-python",
   "name": "python",
   "nbconvert_exporter": "python",
   "pygments_lexer": "ipython3",
   "version": "3.8.9"
  }
 },
 "nbformat": 4,
 "nbformat_minor": 5
}
