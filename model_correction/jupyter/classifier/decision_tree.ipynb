{
 "cells": [
  {
   "cell_type": "code",
   "execution_count": 1,
   "id": "ccdc607d",
   "metadata": {},
   "outputs": [],
   "source": [
    "import pandas as pd\n",
    "\n",
    "class Attribute:\n",
    "    def __init__(self, file_name, entity_type=None):\n",
    "        try:\n",
    "            self.df = pd.read_table(file_name, encoding=\"utf-8\")\n",
    "        except Exception:\n",
    "            self.df = pd.read_table(file_name, encoding=\"ansi\")\n",
    "        \n",
    "        self.attr_name = self.df.columns[0]\n",
    "        self.vals = self.df[self.attr_name].values\n",
    "        self.ds = file_name[:3]\n",
    "        self.name = \":\".join([self.ds, self.attr_name])\n",
    "        self.relation_type = None\n",
    "        self.entity_type = entity_type\n",
    "        if self.entity_type == \"E21_Person\":\n",
    "            self.relation_type = (\"E12_Production\", \"P14_carried_out_by\") if \"E12\" in file_name else (\"E22_Man-Made_Object\", \"P62_depicts\")\n",
    "        elif self.entity_type == \"E52_Time-Span\":\n",
    "            if \"E67\" in file_name:\n",
    "                self.relation_type = (\"E67_Birth\", \"P4_has_time-span\")\n",
    "            elif \"E69\" in file_name:\n",
    "                self.relation_type = (\"E69_Death\", \"P4_has_time-span\")\n",
    "            elif \"E12\" in file_name:\n",
    "                self.relation_type = (\"E12_Production\", \"P4_has_time-span\")\n",
    "            elif \"E8\" in file_name:\n",
    "                self.relation_type = (\"E8_Acquisition\", \"P4_has_time-span\")\n",
    "        elif self.entity_type == \"E53_Place\":\n",
    "            if \"E12_P7\" in file_name:\n",
    "                self.relation_type = (\"E12_Production\", \"P7_took_place_at\")\n",
    "            elif \"E21_P74\" in file_name:\n",
    "                self.relation_type = (\"E21_Person\", \"P74_has_current_or_former_residence\")\n",
    "            elif \"E67_P7\" in file_name:\n",
    "                self.relation_type = (\"E67_Birth\", \"P7_took_place_at\")\n",
    "            elif \"E22_P55\" in file_name:\n",
    "                self.relation_type = (\"E22_Man-made_Object\", \"P55_has_current_location\")\n",
    "        elif self.entity_type == \"E55_Type\":\n",
    "            self.relation_type = (\"E12_Production\", \"P32_used_general_technique\") if \"type1\" in file_name else (\"E22_Man-Made_Object\", \"P2_has_type\")\n",
    "    \n",
    "    def __repr__(self):\n",
    "        return self.name\n",
    "\n",
    "\n"
   ]
  },
  {
   "cell_type": "code",
   "execution_count": 2,
   "id": "76369a8a",
   "metadata": {},
   "outputs": [],
   "source": [
    "import os\n",
    "os.chdir(r\"C:\\D_Drive\\ASM\\experiment\\exp_20211101\\E21_Person\")"
   ]
  },
  {
   "cell_type": "code",
   "execution_count": 3,
   "id": "c80af09f",
   "metadata": {},
   "outputs": [],
   "source": [
    "import scipy.stats as stats\n",
    "from sklearn.feature_extraction.text import TfidfVectorizer\n",
    "from sklearn.metrics.pairwise import cosine_similarity\n",
    "import spacy\n",
    "\n",
    "nlp = spacy.load(\"en_core_web_md\")\n",
    "\n",
    "def jaccard_similarity(x, y):\n",
    "    \n",
    "    if len(x) < 30:\n",
    "        return 0\n",
    "    \n",
    "    intersection_cardinality = len(set(x) & set(y))\n",
    "    union_cardinality = len(set(x) | set(y))\n",
    "    return intersection_cardinality / float(union_cardinality)\n",
    "\n",
    "\n",
    "def tfidf_cosine_similarity(x, y):\n",
    "    \n",
    "    if len(x) < 30:\n",
    "        return 0\n",
    "    \n",
    "    docx = \" \".join(set(x))\n",
    "    docy = \" \".join(set(y))\n",
    "    vectorizer = TfidfVectorizer()\n",
    "    tfidf_matrix = vectorizer.fit_transform([docx.lower(), docy.lower()])\n",
    "    result = cosine_similarity(tfidf_matrix[0], tfidf_matrix[1])[0][0]\n",
    "    return result\n",
    "\n",
    "def get_freq_dict(data):\n",
    "    freq_dict = {}.fromkeys(data, 0)\n",
    "    for ele in data:\n",
    "        freq_dict[ele] += 1\n",
    "\n",
    "    return freq_dict\n",
    "\n",
    "\n",
    "def get_distribution(data):\n",
    "    freq_dict = get_freq_dict(data)\n",
    "    histogram_list = []\n",
    "    i = 0\n",
    "    for v in reversed(sorted(freq_dict.values())):\n",
    "        for _ in range(int(v*100/len(data))):\n",
    "            histogram_list.append(i)\n",
    "        i += 1\n",
    "    return histogram_list\n",
    "\n",
    "\n",
    "def mann_whitney_test(x, y):\n",
    "    \n",
    "    if len(x) < 30:\n",
    "        return 0\n",
    "    \n",
    "    x = get_distribution(x)\n",
    "    y = get_distribution(y)\n",
    "    if len(x) > 1 and len(y) > 1:\n",
    "        if x[-1] != 0 and y[-1] != 0:\n",
    "            result = stats.mannwhitneyu(x, y)[1]\n",
    "            return result\n",
    "\n",
    "    return 0\n",
    "\n",
    "\n",
    "def attr_rel_similarity(attr_name, rel):\n",
    "    \n",
    "    def attr_seg(attr_name):\n",
    "        s = \"\"\n",
    "        if \" \" not in attr_name:\n",
    "            for c in attr_name:\n",
    "                if c.isupper():\n",
    "                    s += \" \"\n",
    "                if c.isalpha():\n",
    "                    s += c\n",
    "                else:\n",
    "                    s += \" \"\n",
    "            return s.strip()\n",
    "        else:\n",
    "            return attr_name\n",
    "    \n",
    "    def rel_seg(r):\n",
    "        return \" \".join(r.split(\"_\")[1:])\n",
    "    \n",
    "    attr_name = attr_seg(attr_name)\n",
    "    \n",
    "    return nlp(attr_name).similarity(nlp(rel_seg(rel[0]))) + nlp(attr_name).similarity(nlp(rel_seg(rel[1])))"
   ]
  },
  {
   "cell_type": "code",
   "execution_count": 4,
   "id": "7dcb57a2",
   "metadata": {},
   "outputs": [],
   "source": [
    "os.chdir(r\"C:\\D_Drive\\ASM\\experiment\\exp_20211101\\E55_Type\")\n",
    "\n",
    "type_attrs = [Attribute(file, \"E55_Type\") for file in os.listdir()]\n",
    "\n",
    "candidate_types = [(\"E12_Production\", \"P32_used_general_technique\"), (\"E22_Man-Made_Object\", \"P2_has_type\")]\n",
    "\n"
   ]
  },
  {
   "cell_type": "code",
   "execution_count": null,
   "id": "ec6f1ad3",
   "metadata": {},
   "outputs": [],
   "source": []
  },
  {
   "cell_type": "code",
   "execution_count": 5,
   "id": "b1dd7ea6",
   "metadata": {},
   "outputs": [],
   "source": [
    "import random\n",
    "random.seed(1)\n",
    "\n",
    "type_E12_attrs = [attr for attr in type_attrs if attr.relation_type == (\"E12_Production\", \"P32_used_general_technique\")]\n",
    "type_E22_attrs = [attr for attr in type_attrs if attr.relation_type == (\"E22_Man-Made_Object\", \"P2_has_type\")]\n",
    "\n",
    "while True:\n",
    "    ref_1 = random.choice(type_E12_attrs)\n",
    "    ref_2 = random.choice(type_E22_attrs)\n",
    "    if len(ref_1.vals) > 30 and len(ref_2.vals) > 30:\n",
    "        break\n",
    "\n",
    "type_E12_attrs.remove(ref_1)\n",
    "type_E22_attrs.remove(ref_2)\n",
    "\n",
    "\n"
   ]
  },
  {
   "cell_type": "code",
   "execution_count": 6,
   "id": "a7c57285",
   "metadata": {},
   "outputs": [
    {
     "name": "stdout",
     "output_type": "stream",
     "text": [
      "s25:Subtype_of_Art_type\n",
      "s26:type\n"
     ]
    }
   ],
   "source": [
    "print(ref_1.name)\n",
    "print(ref_2.name)"
   ]
  },
  {
   "cell_type": "code",
   "execution_count": 7,
   "id": "86b2b581",
   "metadata": {},
   "outputs": [
    {
     "name": "stderr",
     "output_type": "stream",
     "text": [
      "C:\\Users\\16141\\AppData\\Local\\Temp\\ipykernel_12892\\599975078.py:4: FutureWarning: The frame.append method is deprecated and will be removed from pandas in a future version. Use pandas.concat instead.\n",
      "  df = df.append({\"Attr_name\":attr.name, \"Length\":len(attr.vals), \"Jaccard_ref1\":jaccard_similarity(attr.vals, ref_1.vals),\n",
      "C:\\Users\\16141\\AppData\\Local\\Temp\\ipykernel_12892\\599975078.py:4: FutureWarning: The frame.append method is deprecated and will be removed from pandas in a future version. Use pandas.concat instead.\n",
      "  df = df.append({\"Attr_name\":attr.name, \"Length\":len(attr.vals), \"Jaccard_ref1\":jaccard_similarity(attr.vals, ref_1.vals),\n",
      "C:\\Users\\16141\\AppData\\Local\\Temp\\ipykernel_12892\\599975078.py:4: FutureWarning: The frame.append method is deprecated and will be removed from pandas in a future version. Use pandas.concat instead.\n",
      "  df = df.append({\"Attr_name\":attr.name, \"Length\":len(attr.vals), \"Jaccard_ref1\":jaccard_similarity(attr.vals, ref_1.vals),\n",
      "C:\\Users\\16141\\AppData\\Local\\Temp\\ipykernel_12892\\599975078.py:4: FutureWarning: The frame.append method is deprecated and will be removed from pandas in a future version. Use pandas.concat instead.\n",
      "  df = df.append({\"Attr_name\":attr.name, \"Length\":len(attr.vals), \"Jaccard_ref1\":jaccard_similarity(attr.vals, ref_1.vals),\n",
      "C:\\Users\\16141\\AppData\\Local\\Temp\\ipykernel_12892\\599975078.py:4: FutureWarning: The frame.append method is deprecated and will be removed from pandas in a future version. Use pandas.concat instead.\n",
      "  df = df.append({\"Attr_name\":attr.name, \"Length\":len(attr.vals), \"Jaccard_ref1\":jaccard_similarity(attr.vals, ref_1.vals),\n",
      "C:\\Users\\16141\\AppData\\Local\\Temp\\ipykernel_12892\\599975078.py:4: FutureWarning: The frame.append method is deprecated and will be removed from pandas in a future version. Use pandas.concat instead.\n",
      "  df = df.append({\"Attr_name\":attr.name, \"Length\":len(attr.vals), \"Jaccard_ref1\":jaccard_similarity(attr.vals, ref_1.vals),\n",
      "C:\\Users\\16141\\AppData\\Local\\Temp\\ipykernel_12892\\599975078.py:4: FutureWarning: The frame.append method is deprecated and will be removed from pandas in a future version. Use pandas.concat instead.\n",
      "  df = df.append({\"Attr_name\":attr.name, \"Length\":len(attr.vals), \"Jaccard_ref1\":jaccard_similarity(attr.vals, ref_1.vals),\n",
      "C:\\Users\\16141\\AppData\\Local\\Temp\\ipykernel_12892\\599975078.py:4: FutureWarning: The frame.append method is deprecated and will be removed from pandas in a future version. Use pandas.concat instead.\n",
      "  df = df.append({\"Attr_name\":attr.name, \"Length\":len(attr.vals), \"Jaccard_ref1\":jaccard_similarity(attr.vals, ref_1.vals),\n",
      "C:\\Users\\16141\\AppData\\Local\\Temp\\ipykernel_12892\\599975078.py:4: FutureWarning: The frame.append method is deprecated and will be removed from pandas in a future version. Use pandas.concat instead.\n",
      "  df = df.append({\"Attr_name\":attr.name, \"Length\":len(attr.vals), \"Jaccard_ref1\":jaccard_similarity(attr.vals, ref_1.vals),\n",
      "C:\\Users\\16141\\AppData\\Local\\Temp\\ipykernel_12892\\599975078.py:4: FutureWarning: The frame.append method is deprecated and will be removed from pandas in a future version. Use pandas.concat instead.\n",
      "  df = df.append({\"Attr_name\":attr.name, \"Length\":len(attr.vals), \"Jaccard_ref1\":jaccard_similarity(attr.vals, ref_1.vals),\n",
      "C:\\Users\\16141\\AppData\\Local\\Temp\\ipykernel_12892\\599975078.py:4: FutureWarning: The frame.append method is deprecated and will be removed from pandas in a future version. Use pandas.concat instead.\n",
      "  df = df.append({\"Attr_name\":attr.name, \"Length\":len(attr.vals), \"Jaccard_ref1\":jaccard_similarity(attr.vals, ref_1.vals),\n",
      "C:\\Users\\16141\\AppData\\Local\\Temp\\ipykernel_12892\\599975078.py:4: FutureWarning: The frame.append method is deprecated and will be removed from pandas in a future version. Use pandas.concat instead.\n",
      "  df = df.append({\"Attr_name\":attr.name, \"Length\":len(attr.vals), \"Jaccard_ref1\":jaccard_similarity(attr.vals, ref_1.vals),\n",
      "C:\\Users\\16141\\AppData\\Local\\Temp\\ipykernel_12892\\599975078.py:4: FutureWarning: The frame.append method is deprecated and will be removed from pandas in a future version. Use pandas.concat instead.\n",
      "  df = df.append({\"Attr_name\":attr.name, \"Length\":len(attr.vals), \"Jaccard_ref1\":jaccard_similarity(attr.vals, ref_1.vals),\n",
      "C:\\Users\\16141\\AppData\\Local\\Temp\\ipykernel_12892\\599975078.py:4: FutureWarning: The frame.append method is deprecated and will be removed from pandas in a future version. Use pandas.concat instead.\n",
      "  df = df.append({\"Attr_name\":attr.name, \"Length\":len(attr.vals), \"Jaccard_ref1\":jaccard_similarity(attr.vals, ref_1.vals),\n",
      "C:\\Users\\16141\\AppData\\Local\\Temp\\ipykernel_12892\\599975078.py:4: FutureWarning: The frame.append method is deprecated and will be removed from pandas in a future version. Use pandas.concat instead.\n",
      "  df = df.append({\"Attr_name\":attr.name, \"Length\":len(attr.vals), \"Jaccard_ref1\":jaccard_similarity(attr.vals, ref_1.vals),\n",
      "C:\\Users\\16141\\AppData\\Local\\Temp\\ipykernel_12892\\599975078.py:4: FutureWarning: The frame.append method is deprecated and will be removed from pandas in a future version. Use pandas.concat instead.\n",
      "  df = df.append({\"Attr_name\":attr.name, \"Length\":len(attr.vals), \"Jaccard_ref1\":jaccard_similarity(attr.vals, ref_1.vals),\n",
      "C:\\Users\\16141\\AppData\\Local\\Temp\\ipykernel_12892\\599975078.py:13: FutureWarning: The frame.append method is deprecated and will be removed from pandas in a future version. Use pandas.concat instead.\n",
      "  df = df.append({\"Attr_name\":attr.name, \"Length\":len(attr.vals), \"Jaccard_ref1\":jaccard_similarity(attr.vals, ref_1.vals),\n",
      "C:\\Users\\16141\\AppData\\Local\\Temp\\ipykernel_12892\\599975078.py:13: FutureWarning: The frame.append method is deprecated and will be removed from pandas in a future version. Use pandas.concat instead.\n",
      "  df = df.append({\"Attr_name\":attr.name, \"Length\":len(attr.vals), \"Jaccard_ref1\":jaccard_similarity(attr.vals, ref_1.vals),\n",
      "C:\\Users\\16141\\AppData\\Local\\Temp\\ipykernel_12892\\599975078.py:13: FutureWarning: The frame.append method is deprecated and will be removed from pandas in a future version. Use pandas.concat instead.\n",
      "  df = df.append({\"Attr_name\":attr.name, \"Length\":len(attr.vals), \"Jaccard_ref1\":jaccard_similarity(attr.vals, ref_1.vals),\n",
      "C:\\Users\\16141\\AppData\\Local\\Temp\\ipykernel_12892\\599975078.py:13: FutureWarning: The frame.append method is deprecated and will be removed from pandas in a future version. Use pandas.concat instead.\n",
      "  df = df.append({\"Attr_name\":attr.name, \"Length\":len(attr.vals), \"Jaccard_ref1\":jaccard_similarity(attr.vals, ref_1.vals),\n",
      "C:\\Users\\16141\\AppData\\Local\\Temp\\ipykernel_12892\\1424256672.py:85: UserWarning: [W008] Evaluating Doc.similarity based on empty vectors.\n",
      "  return nlp(attr_name).similarity(nlp(rel_seg(rel[0]))) + nlp(attr_name).similarity(nlp(rel_seg(rel[1])))\n",
      "C:\\Users\\16141\\AppData\\Local\\Temp\\ipykernel_12892\\599975078.py:13: FutureWarning: The frame.append method is deprecated and will be removed from pandas in a future version. Use pandas.concat instead.\n",
      "  df = df.append({\"Attr_name\":attr.name, \"Length\":len(attr.vals), \"Jaccard_ref1\":jaccard_similarity(attr.vals, ref_1.vals),\n",
      "C:\\Users\\16141\\AppData\\Local\\Temp\\ipykernel_12892\\599975078.py:13: FutureWarning: The frame.append method is deprecated and will be removed from pandas in a future version. Use pandas.concat instead.\n",
      "  df = df.append({\"Attr_name\":attr.name, \"Length\":len(attr.vals), \"Jaccard_ref1\":jaccard_similarity(attr.vals, ref_1.vals),\n",
      "C:\\Users\\16141\\AppData\\Local\\Temp\\ipykernel_12892\\599975078.py:13: FutureWarning: The frame.append method is deprecated and will be removed from pandas in a future version. Use pandas.concat instead.\n",
      "  df = df.append({\"Attr_name\":attr.name, \"Length\":len(attr.vals), \"Jaccard_ref1\":jaccard_similarity(attr.vals, ref_1.vals),\n",
      "C:\\Users\\16141\\AppData\\Local\\Temp\\ipykernel_12892\\599975078.py:13: FutureWarning: The frame.append method is deprecated and will be removed from pandas in a future version. Use pandas.concat instead.\n",
      "  df = df.append({\"Attr_name\":attr.name, \"Length\":len(attr.vals), \"Jaccard_ref1\":jaccard_similarity(attr.vals, ref_1.vals),\n",
      "C:\\Users\\16141\\AppData\\Local\\Temp\\ipykernel_12892\\599975078.py:13: FutureWarning: The frame.append method is deprecated and will be removed from pandas in a future version. Use pandas.concat instead.\n",
      "  df = df.append({\"Attr_name\":attr.name, \"Length\":len(attr.vals), \"Jaccard_ref1\":jaccard_similarity(attr.vals, ref_1.vals),\n"
     ]
    }
   ],
   "source": [
    "df = pd.DataFrame(columns = [\"Attr_name\",\"Length\",\"Jaccard_ref1\",\"Jaccard_ref2\", \"TF-IDF_ref1\",\n",
    "                             \"TF-IDF_ref2\", \"MW_ref1\", \"MW_ref2\", \"Attr_rel1\", \"Attr_rel2\", \"real_relation\", \"label\"])\n",
    "for attr in type_E12_attrs:\n",
    "    df = df.append({\"Attr_name\":attr.name, \"Length\":len(attr.vals), \"Jaccard_ref1\":jaccard_similarity(attr.vals, ref_1.vals),\n",
    "                    \"Jaccard_ref2\":jaccard_similarity(attr.vals, ref_2.vals), \"TF-IDF_ref1\":tfidf_cosine_similarity(attr.vals, ref_1.vals),\n",
    "                    \"TF-IDF_ref2\":tfidf_cosine_similarity(attr.vals, ref_2.vals), \"MW_ref1\":mann_whitney_test(attr.vals, ref_1.vals),\n",
    "                    \"MW_ref2\":mann_whitney_test(attr.vals, ref_2.vals),\"Attr_rel1\":attr_rel_similarity(attr.attr_name, candidate_types[0]),\n",
    "                    \"Attr_rel2\":attr_rel_similarity(attr.attr_name, candidate_types[1]), \"real_relation\":attr.relation_type,\"label\":0}, ignore_index=True)\n",
    "\n",
    "\n",
    "    \n",
    "for attr in type_E22_attrs:\n",
    "    df = df.append({\"Attr_name\":attr.name, \"Length\":len(attr.vals), \"Jaccard_ref1\":jaccard_similarity(attr.vals, ref_1.vals),\n",
    "                    \"Jaccard_ref2\":jaccard_similarity(attr.vals, ref_2.vals), \"TF-IDF_ref1\":tfidf_cosine_similarity(attr.vals, ref_1.vals),\n",
    "                    \"TF-IDF_ref2\":tfidf_cosine_similarity(attr.vals, ref_2.vals), \"MW_ref1\":mann_whitney_test(attr.vals, ref_1.vals),\n",
    "                    \"MW_ref2\":mann_whitney_test(attr.vals, ref_2.vals),\"Attr_rel1\":attr_rel_similarity(attr.attr_name, candidate_types[0]),\n",
    "                    \"Attr_rel2\":attr_rel_similarity(attr.attr_name, candidate_types[1]), \"real_relation\":attr.relation_type,\"label\":1}, ignore_index=True)\n",
    "\n"
   ]
  },
  {
   "cell_type": "code",
   "execution_count": 8,
   "id": "ec79dd16",
   "metadata": {},
   "outputs": [
    {
     "data": {
      "text/html": [
       "<div>\n",
       "<style scoped>\n",
       "    .dataframe tbody tr th:only-of-type {\n",
       "        vertical-align: middle;\n",
       "    }\n",
       "\n",
       "    .dataframe tbody tr th {\n",
       "        vertical-align: top;\n",
       "    }\n",
       "\n",
       "    .dataframe thead th {\n",
       "        text-align: right;\n",
       "    }\n",
       "</style>\n",
       "<table border=\"1\" class=\"dataframe\">\n",
       "  <thead>\n",
       "    <tr style=\"text-align: right;\">\n",
       "      <th></th>\n",
       "      <th>Attr_name</th>\n",
       "      <th>Length</th>\n",
       "      <th>Jaccard_ref1</th>\n",
       "      <th>Jaccard_ref2</th>\n",
       "      <th>TF-IDF_ref1</th>\n",
       "      <th>TF-IDF_ref2</th>\n",
       "      <th>MW_ref1</th>\n",
       "      <th>MW_ref2</th>\n",
       "      <th>Attr_rel1</th>\n",
       "      <th>Attr_rel2</th>\n",
       "      <th>real_relation</th>\n",
       "      <th>label</th>\n",
       "    </tr>\n",
       "  </thead>\n",
       "  <tbody>\n",
       "    <tr>\n",
       "      <th>0</th>\n",
       "      <td>s01:Medium</td>\n",
       "      <td>53</td>\n",
       "      <td>0.055556</td>\n",
       "      <td>0.0</td>\n",
       "      <td>0.582406</td>\n",
       "      <td>0.022692</td>\n",
       "      <td>0.021282</td>\n",
       "      <td>0.986844</td>\n",
       "      <td>0.329333</td>\n",
       "      <td>0.308521</td>\n",
       "      <td>(E12_Production, P32_used_general_technique)</td>\n",
       "      <td>0</td>\n",
       "    </tr>\n",
       "    <tr>\n",
       "      <th>1</th>\n",
       "      <td>s02:Object_Facet_Value</td>\n",
       "      <td>43</td>\n",
       "      <td>0.1</td>\n",
       "      <td>0.0</td>\n",
       "      <td>0.797171</td>\n",
       "      <td>0.0</td>\n",
       "      <td>0.255859</td>\n",
       "      <td>0.001285</td>\n",
       "      <td>0.882239</td>\n",
       "      <td>0.900942</td>\n",
       "      <td>(E12_Production, P32_used_general_technique)</td>\n",
       "      <td>0</td>\n",
       "    </tr>\n",
       "    <tr>\n",
       "      <th>2</th>\n",
       "      <td>s04:materials</td>\n",
       "      <td>14</td>\n",
       "      <td>0</td>\n",
       "      <td>0</td>\n",
       "      <td>0</td>\n",
       "      <td>0</td>\n",
       "      <td>0</td>\n",
       "      <td>0</td>\n",
       "      <td>0.619904</td>\n",
       "      <td>0.249943</td>\n",
       "      <td>(E12_Production, P32_used_general_technique)</td>\n",
       "      <td>0</td>\n",
       "    </tr>\n",
       "    <tr>\n",
       "      <th>3</th>\n",
       "      <td>s05:Medium</td>\n",
       "      <td>3</td>\n",
       "      <td>0</td>\n",
       "      <td>0</td>\n",
       "      <td>0</td>\n",
       "      <td>0</td>\n",
       "      <td>0</td>\n",
       "      <td>0</td>\n",
       "      <td>0.329333</td>\n",
       "      <td>0.308521</td>\n",
       "      <td>(E12_Production, P32_used_general_technique)</td>\n",
       "      <td>0</td>\n",
       "    </tr>\n",
       "    <tr>\n",
       "      <th>4</th>\n",
       "      <td>s06:Medium</td>\n",
       "      <td>30</td>\n",
       "      <td>0.153846</td>\n",
       "      <td>0.0</td>\n",
       "      <td>0.865085</td>\n",
       "      <td>0.0</td>\n",
       "      <td>0.094076</td>\n",
       "      <td>0.484379</td>\n",
       "      <td>0.329333</td>\n",
       "      <td>0.308521</td>\n",
       "      <td>(E12_Production, P32_used_general_technique)</td>\n",
       "      <td>0</td>\n",
       "    </tr>\n",
       "  </tbody>\n",
       "</table>\n",
       "</div>"
      ],
      "text/plain": [
       "                Attr_name Length Jaccard_ref1 Jaccard_ref2 TF-IDF_ref1  \\\n",
       "0              s01:Medium     53     0.055556          0.0    0.582406   \n",
       "1  s02:Object_Facet_Value     43          0.1          0.0    0.797171   \n",
       "2           s04:materials     14            0            0           0   \n",
       "3              s05:Medium      3            0            0           0   \n",
       "4              s06:Medium     30     0.153846          0.0    0.865085   \n",
       "\n",
       "  TF-IDF_ref2   MW_ref1   MW_ref2 Attr_rel1 Attr_rel2  \\\n",
       "0    0.022692  0.021282  0.986844  0.329333  0.308521   \n",
       "1         0.0  0.255859  0.001285  0.882239  0.900942   \n",
       "2           0         0         0  0.619904  0.249943   \n",
       "3           0         0         0  0.329333  0.308521   \n",
       "4         0.0  0.094076  0.484379  0.329333  0.308521   \n",
       "\n",
       "                                  real_relation label  \n",
       "0  (E12_Production, P32_used_general_technique)     0  \n",
       "1  (E12_Production, P32_used_general_technique)     0  \n",
       "2  (E12_Production, P32_used_general_technique)     0  \n",
       "3  (E12_Production, P32_used_general_technique)     0  \n",
       "4  (E12_Production, P32_used_general_technique)     0  "
      ]
     },
     "execution_count": 8,
     "metadata": {},
     "output_type": "execute_result"
    }
   ],
   "source": [
    "df.head()"
   ]
  },
  {
   "cell_type": "code",
   "execution_count": 9,
   "id": "ef0520b4",
   "metadata": {},
   "outputs": [],
   "source": [
    "X = df[[\"Jaccard_ref1\", \"Jaccard_ref2\", \"TF-IDF_ref1\",\"TF-IDF_ref2\", \"MW_ref1\", \"MW_ref2\", \"Attr_rel1\", \"Attr_rel2\"]]\n",
    "y = df[\"label\"].apply(int)"
   ]
  },
  {
   "cell_type": "code",
   "execution_count": 12,
   "id": "1e21e7bd",
   "metadata": {},
   "outputs": [],
   "source": [
    "from sklearn import tree\n",
    "import pydotplus\n",
    "from IPython.display import Image\n",
    "from sklearn.metrics import confusion_matrix\n",
    "import seaborn as sns\n",
    "os.environ[\"PATH\"] += os.pathsep + 'C:/Program Files (x86)/Graphviz2.38/bin/'\n",
    "\n",
    "\n",
    "def exp1(random_state):\n",
    "    random.seed(random_state)\n",
    "    train_index = random.sample(range(len(df)), k=10)\n",
    "    test_index = [_ for _ in range(len(df)) if _ not in train_index]\n",
    "    X_train = X.loc[train_index]\n",
    "    y_train = y.loc[train_index]\n",
    "    X_test = X.loc[test_index]\n",
    "    y_test = y.loc[test_index]\n",
    "    decision_tree = tree.DecisionTreeClassifier(random_state=0, class_weight=\"balanced\")\n",
    "    decision_tree.fit(X_train, y_train)\n",
    "    y_pred = decision_tree.predict(X_test)\n",
    "    result_df = df[[\"Attr_name\", \"label\"]].loc[test_index]\n",
    "    result_df.index = list(range(len(result_df)))\n",
    "    result_df[\"pred\"] = y_pred\n",
    "    \n",
    "    \n",
    "    rel_dict = {0:\"E12_Producton\", 1:\"E22_Man-Made_Object\"}\n",
    "    \n",
    "    result_df[\"label\"] = result_df[\"label\"].map(lambda x: rel_dict[x])\n",
    "    result_df[\"pred\"] = result_df[\"pred\"].map(lambda x: rel_dict[x])\n",
    "    \n",
    "    \n",
    "    dot_data = tree.export_graphviz(decision_tree, out_file=None, feature_names=X.columns, class_names=[\"E12_Production\",\"E22_Man-Made_Object\"])\n",
    "    graph = pydotplus.graph_from_dot_data(dot_data)\n",
    "    \n",
    "    matrix = confusion_matrix(y_test, y_pred)\n",
    "    matrix_df = pd.DataFrame(matrix, index=[\"E12_Production\", \"E22_Man-made_Object\"], columns=[\"E12_Production\", \"E22_Man-made_Object\"])\n",
    "\n",
    "    \n",
    "    return result_df, graph, matrix_df"
   ]
  },
  {
   "cell_type": "code",
   "execution_count": 14,
   "id": "df1afba3",
   "metadata": {},
   "outputs": [
    {
     "data": {
      "image/png": "[encoded data removed]",
      "text/plain": [
       "<Figure size 432x288 with 1 Axes>"
      ]
     },
     "metadata": {
      "needs_background": "light"
     },
     "output_type": "display_data"
    },
    {
     "data": {
      "image/png": "[encoded data removed]",
      "text/plain": [
       "<Figure size 432x288 with 1 Axes>"
      ]
     },
     "metadata": {
      "needs_background": "light"
     },
     "output_type": "display_data"
    },
    {
     "data": {
      "image/png": "[encoded data removed]",
      "text/plain": [
       "<Figure size 432x288 with 1 Axes>"
      ]
     },
     "metadata": {
      "needs_background": "light"
     },
     "output_type": "display_data"
    },
    {
     "data": {
      "image/png": "[encoded data removed]",
      "text/plain": [
       "<Figure size 432x288 with 1 Axes>"
      ]
     },
     "metadata": {
      "needs_background": "light"
     },
     "output_type": "display_data"
    },
    {
     "data": {
      "image/png": "[encoded data removed]",
      "text/plain": [
       "<Figure size 432x288 with 1 Axes>"
      ]
     },
     "metadata": {
      "needs_background": "light"
     },
     "output_type": "display_data"
    }
   ],
   "source": [
    "from matplotlib import pyplot as plt\n",
    "\n",
    "for i in range(1, 6):\n",
    "    result_df, graph, matrix_df = exp1(i)\n",
    "    \n",
    "    result_df.to_csv(f\"../result/E55_Type/exp_{i}.csv\", index=False)\n",
    "    graph.write_pdf(f\"../result/E55_Type/tree_{i}.pdf\")\n",
    "    plt.figure()\n",
    "    sns.heatmap(matrix_df, annot=True, cbar=None, cmap=\"Blues\")\n",
    "    plt.title(\"Confusion Matrix\")\n",
    "    plt.ylabel(\"True Class\"), plt.xlabel(\"Predicted Class\")\n",
    "    plt.savefig(f\"../result/E55_Type/matrix_{i}.pdf\")"
   ]
  },
  {
   "cell_type": "code",
   "execution_count": 36,
   "id": "b1748e06",
   "metadata": {},
   "outputs": [],
   "source": []
  },
  {
   "cell_type": "code",
   "execution_count": 15,
   "id": "b3dcdb9e",
   "metadata": {},
   "outputs": [],
   "source": [
    "os.chdir(\"../E52_Time-Span\")"
   ]
  },
  {
   "cell_type": "code",
   "execution_count": 16,
   "id": "e4ad6f30",
   "metadata": {},
   "outputs": [],
   "source": [
    "time_span_attrs = [Attribute(file, \"E52_Time-Span\") for file in os.listdir()]"
   ]
  },
  {
   "cell_type": "code",
   "execution_count": 17,
   "id": "60c94774",
   "metadata": {},
   "outputs": [],
   "source": [
    "birth_times = [attr.name for attr in time_span_attrs if attr.relation_type[0] == \"E67_Birth\"]\n",
    "death_times = [attr.name for attr in time_span_attrs if attr.relation_type[0] == \"E69_Death\"]\n",
    "production_times = [attr.name for attr in time_span_attrs if attr.relation_type[0] == \"E12_Production\"]\n",
    "acquisition_times = [attr.name for attr in time_span_attrs if attr.relation_type[0] == \"E8_Acquisition\"]"
   ]
  },
  {
   "cell_type": "code",
   "execution_count": 19,
   "id": "115ca686",
   "metadata": {},
   "outputs": [],
   "source": [
    "ulan_time_results = [(file, pd.read_csv(r\"C:\\D_Drive\\ASM\\experiment\\exp_20211101\\ULAN_time_search\\\\\"+ file)) for file in os.listdir(r\"C:\\D_Drive\\ASM\\experiment\\exp_20211101\\ULAN_time_search\")]"
   ]
  },
  {
   "cell_type": "code",
   "execution_count": 20,
   "id": "116f1f83",
   "metadata": {},
   "outputs": [],
   "source": [
    "def ulan_birth_score(attr):\n",
    "    for file, ulan_result in ulan_time_results:\n",
    "        if attr.ds == file[:3]:\n",
    "            return list(ulan_result[\"birth_date\"].values == attr.vals).count(True) / len(attr.vals)\n",
    "\n",
    "        \n",
    "def ulan_death_score(attr):\n",
    "    for file, ulan_result in ulan_time_results:\n",
    "        if attr.ds == file[:3]:\n",
    "            return list(ulan_result[\"death_date\"].values == attr.vals).count(True) / len(attr.vals)"
   ]
  },
  {
   "cell_type": "code",
   "execution_count": null,
   "id": "612794f4",
   "metadata": {},
   "outputs": [],
   "source": [
    "\n"
   ]
  },
  {
   "cell_type": "code",
   "execution_count": 21,
   "id": "86062c3b",
   "metadata": {},
   "outputs": [],
   "source": [
    "E52_rels = [(\"E67_Birth\", \"P4_has_time-span\"), (\"E69_Death\", \"P4_has_time-span\"), (\"E12_Production\", \"P4_has_time-span\"), (\"E8_Acquisition\", \"P4_has_time-span\")]\n"
   ]
  },
  {
   "cell_type": "code",
   "execution_count": 22,
   "id": "cea7577c",
   "metadata": {},
   "outputs": [],
   "source": [
    "E52_df = pd.DataFrame(columns = [\"rel1_score\", \"rel2_score\", \"rel3_score\", \"rel4_score\", \"ulan_birth_score\", \"ulan_death_score\", \"real_relation\", \"label\"])"
   ]
  },
  {
   "cell_type": "code",
   "execution_count": 23,
   "id": "de6adfd5",
   "metadata": {},
   "outputs": [
    {
     "data": {
      "text/html": [
       "<div>\n",
       "<style scoped>\n",
       "    .dataframe tbody tr th:only-of-type {\n",
       "        vertical-align: middle;\n",
       "    }\n",
       "\n",
       "    .dataframe tbody tr th {\n",
       "        vertical-align: top;\n",
       "    }\n",
       "\n",
       "    .dataframe thead th {\n",
       "        text-align: right;\n",
       "    }\n",
       "</style>\n",
       "<table border=\"1\" class=\"dataframe\">\n",
       "  <thead>\n",
       "    <tr style=\"text-align: right;\">\n",
       "      <th></th>\n",
       "      <th>rel1_score</th>\n",
       "      <th>rel2_score</th>\n",
       "      <th>rel3_score</th>\n",
       "      <th>rel4_score</th>\n",
       "      <th>ulan_birth_score</th>\n",
       "      <th>ulan_death_score</th>\n",
       "      <th>real_relation</th>\n",
       "      <th>label</th>\n",
       "    </tr>\n",
       "  </thead>\n",
       "  <tbody>\n",
       "    <tr>\n",
       "      <th>s01:Begin Date</th>\n",
       "      <td>0.679905</td>\n",
       "      <td>0.591129</td>\n",
       "      <td>0.871063</td>\n",
       "      <td>1.005467</td>\n",
       "      <td>0.811321</td>\n",
       "      <td>0.000000</td>\n",
       "      <td>(E67_Birth, P4_has_time-span)</td>\n",
       "      <td>0</td>\n",
       "    </tr>\n",
       "    <tr>\n",
       "      <th>s01:Dated</th>\n",
       "      <td>0.472672</td>\n",
       "      <td>0.359427</td>\n",
       "      <td>0.487372</td>\n",
       "      <td>0.446940</td>\n",
       "      <td>0.000000</td>\n",
       "      <td>0.018868</td>\n",
       "      <td>(E12_Production, P4_has_time-span)</td>\n",
       "      <td>2</td>\n",
       "    </tr>\n",
       "    <tr>\n",
       "      <th>s01:End Date</th>\n",
       "      <td>0.818758</td>\n",
       "      <td>0.848872</td>\n",
       "      <td>0.899286</td>\n",
       "      <td>1.080610</td>\n",
       "      <td>0.000000</td>\n",
       "      <td>0.849057</td>\n",
       "      <td>(E69_Death, P4_has_time-span)</td>\n",
       "      <td>1</td>\n",
       "    </tr>\n",
       "    <tr>\n",
       "      <th>s02:Artist Birth Date</th>\n",
       "      <td>0.994648</td>\n",
       "      <td>0.430137</td>\n",
       "      <td>0.664102</td>\n",
       "      <td>0.637207</td>\n",
       "      <td>0.813953</td>\n",
       "      <td>0.000000</td>\n",
       "      <td>(E67_Birth, P4_has_time-span)</td>\n",
       "      <td>0</td>\n",
       "    </tr>\n",
       "    <tr>\n",
       "      <th>s02:Artist Death Date</th>\n",
       "      <td>0.627301</td>\n",
       "      <td>1.077413</td>\n",
       "      <td>0.684160</td>\n",
       "      <td>0.782595</td>\n",
       "      <td>0.000000</td>\n",
       "      <td>0.883721</td>\n",
       "      <td>(E69_Death, P4_has_time-span)</td>\n",
       "      <td>1</td>\n",
       "    </tr>\n",
       "  </tbody>\n",
       "</table>\n",
       "</div>"
      ],
      "text/plain": [
       "                       rel1_score  rel2_score  rel3_score  rel4_score  \\\n",
       "s01:Begin Date           0.679905    0.591129    0.871063    1.005467   \n",
       "s01:Dated                0.472672    0.359427    0.487372    0.446940   \n",
       "s01:End Date             0.818758    0.848872    0.899286    1.080610   \n",
       "s02:Artist Birth Date    0.994648    0.430137    0.664102    0.637207   \n",
       "s02:Artist Death Date    0.627301    1.077413    0.684160    0.782595   \n",
       "\n",
       "                       ulan_birth_score  ulan_death_score  \\\n",
       "s01:Begin Date                 0.811321          0.000000   \n",
       "s01:Dated                      0.000000          0.018868   \n",
       "s01:End Date                   0.000000          0.849057   \n",
       "s02:Artist Birth Date          0.813953          0.000000   \n",
       "s02:Artist Death Date          0.000000          0.883721   \n",
       "\n",
       "                                            real_relation  label  \n",
       "s01:Begin Date              (E67_Birth, P4_has_time-span)      0  \n",
       "s01:Dated              (E12_Production, P4_has_time-span)      2  \n",
       "s01:End Date                (E69_Death, P4_has_time-span)      1  \n",
       "s02:Artist Birth Date       (E67_Birth, P4_has_time-span)      0  \n",
       "s02:Artist Death Date       (E69_Death, P4_has_time-span)      1  "
      ]
     },
     "execution_count": 23,
     "metadata": {},
     "output_type": "execute_result"
    }
   ],
   "source": [
    "for attr in time_span_attrs:\n",
    "    rel1_score = attr_rel_similarity(attr.attr_name, E52_rels[0])\n",
    "    rel2_score = attr_rel_similarity(attr.attr_name, E52_rels[1])\n",
    "    rel3_score = attr_rel_similarity(attr.attr_name, E52_rels[2])\n",
    "    rel4_score = attr_rel_similarity(attr.attr_name, E52_rels[3])\n",
    "    birth_score = ulan_birth_score(attr)\n",
    "    death_score = ulan_death_score(attr)\n",
    "    real_realtion = attr.relation_type\n",
    "    label = E52_rels.index(real_realtion)\n",
    "    E52_df.loc[attr.name] = [rel1_score, rel2_score, rel3_score, rel4_score, birth_score, death_score, real_realtion, label]\n",
    "    \n",
    "E52_df.head()"
   ]
  },
  {
   "cell_type": "code",
   "execution_count": 24,
   "id": "8e2a1179",
   "metadata": {},
   "outputs": [],
   "source": [
    "X = E52_df[[\"rel1_score\", \"rel2_score\", \"rel3_score\", \"rel4_score\", \"ulan_birth_score\", \"ulan_death_score\"]]"
   ]
  },
  {
   "cell_type": "code",
   "execution_count": 25,
   "id": "ca5b3343",
   "metadata": {},
   "outputs": [],
   "source": [
    "y = E52_df[\"label\"].apply(int)"
   ]
  },
  {
   "cell_type": "code",
   "execution_count": 26,
   "id": "f317834a",
   "metadata": {},
   "outputs": [],
   "source": [
    "def exp2(random_state):\n",
    "\n",
    "    random.seed(random_state)\n",
    "\n",
    "    train_attrs = []\n",
    "\n",
    "    train_attrs.extend(random.sample(birth_times, 9))\n",
    "    train_attrs.extend(random.sample(death_times, 9))\n",
    "    train_attrs.extend(random.sample(production_times, 8))\n",
    "    train_attrs.extend(random.sample(acquisition_times, 1))\n",
    "\n",
    "    test_attrs = [attr.name for attr in time_span_attrs if attr.name not in train_attrs]\n",
    "    X_train = X.loc[train_attrs]\n",
    "    X_test = X.loc[test_attrs]\n",
    "    y_train = y.loc[train_attrs]\n",
    "    y_test = y.loc[test_attrs]\n",
    "    \n",
    "    decision_tree = tree.DecisionTreeClassifier(random_state=0, class_weight=\"balanced\")\n",
    "    decision_tree.fit(X_train, y_train)\n",
    "    y_pred = decision_tree.predict(X_test)\n",
    "    \n",
    "    result_df = pd.DataFrame(y_test)\n",
    "    result_df[\"pred\"] = y_pred\n",
    "    \n",
    "    rel_dict = {0:\"E67_Birth\", 1:\"E69_Death\", 2:\"E12_Production\", 3:\"E8_Acquisition\"}\n",
    "    \n",
    "    result_df[\"label\"] = result_df[\"label\"].map(lambda x:rel_dict[x])\n",
    "    result_df[\"pred\"] = result_df[\"pred\"].map(lambda x:rel_dict[x])\n",
    "    dot_data = tree.export_graphviz(decision_tree, out_file=None, feature_names=X.columns, class_names=[\"E67_Birth\",\"E69_Death\", \"E12_Production\", \"E8_Acquisition\"])\n",
    "    graph = pydotplus.graph_from_dot_data(dot_data)\n",
    "    \n",
    "    matrix = confusion_matrix(y_test, y_pred)\n",
    "    matrix_df = pd.DataFrame(matrix, index=[\"E67_Birth\", \"E69_Death\", \"E12_Production\", \"E8_Acquisition\"], columns=[\"E67_Birth\", \"E69_Death\", \"E12_Production\", \"E8_Acquisition\"])\n",
    "    \n",
    "    return result_df, graph, matrix_df\n",
    "    "
   ]
  },
  {
   "cell_type": "code",
   "execution_count": null,
   "id": "58b643a7",
   "metadata": {},
   "outputs": [],
   "source": []
  },
  {
   "cell_type": "code",
   "execution_count": 27,
   "id": "73134fd5",
   "metadata": {},
   "outputs": [
    {
     "data": {
      "image/png": "[encoded data removed]",
      "text/plain": [
       "<Figure size 432x288 with 1 Axes>"
      ]
     },
     "metadata": {
      "needs_background": "light"
     },
     "output_type": "display_data"
    },
    {
     "data": {
      "image/png": "[encoded data removed]",
      "text/plain": [
       "<Figure size 432x288 with 1 Axes>"
      ]
     },
     "metadata": {
      "needs_background": "light"
     },
     "output_type": "display_data"
    },
    {
     "data": {
      "image/png": "[encoded data removed]",
      "text/plain": [
       "<Figure size 432x288 with 1 Axes>"
      ]
     },
     "metadata": {
      "needs_background": "light"
     },
     "output_type": "display_data"
    },
    {
     "data": {
      "image/png": "[encoded data removed]",
      "text/plain": [
       "<Figure size 432x288 with 1 Axes>"
      ]
     },
     "metadata": {
      "needs_background": "light"
     },
     "output_type": "display_data"
    },
    {
     "data": {
      "image/png": "[encoded data removed]",
      "text/plain": [
       "<Figure size 432x288 with 1 Axes>"
      ]
     },
     "metadata": {
      "needs_background": "light"
     },
     "output_type": "display_data"
    }
   ],
   "source": [
    "for i in range(1,6):\n",
    "    result_df, graph, matrix_df = exp2(i)\n",
    "    \n",
    "    result_df.to_csv(f\"../result/E52_Time-Span/exp_{i}.csv\")\n",
    "    graph.write_pdf(f\"../result/E52_Time-Span/tree_{i}.pdf\")\n",
    "    plt.figure()\n",
    "    sns.heatmap(matrix_df, annot=True, cbar=None, cmap=\"Blues\")\n",
    "    plt.title(\"Confusion Matrix\")\n",
    "    plt.ylabel(\"True Class\"), plt.xlabel(\"Predicted Class\")\n",
    "    plt.savefig(f\"../result/E52_Time-Span/matrix_{i}.pdf\")"
   ]
  },
  {
   "cell_type": "code",
   "execution_count": 28,
   "id": "3f9c36ce",
   "metadata": {},
   "outputs": [],
   "source": [
    "\n",
    "os.chdir(r\"C:\\D_Drive\\ASM\\experiment\\exp_20211101\\E21_Person\")\n",
    "\n",
    "\n",
    "person_attrs = [Attribute(file, \"E21_Person\") for file in os.listdir()]"
   ]
  },
  {
   "cell_type": "code",
   "execution_count": 29,
   "id": "cbbc017d",
   "metadata": {},
   "outputs": [
    {
     "name": "stdout",
     "output_type": "stream",
     "text": [
      "s01:Attribution ('E12_Production', 'P14_carried_out_by')\n",
      "s02:Artist Name ('E12_Production', 'P14_carried_out_by')\n",
      "s03:name ('E12_Production', 'P14_carried_out_by')\n",
      "s04:artist ('E12_Production', 'P14_carried_out_by')\n",
      "s05:Who ('E12_Production', 'P14_carried_out_by')\n",
      "s06:Artist ('E12_Production', 'P14_carried_out_by')\n",
      "s06:Title ('E22_Man-Made_Object', 'P62_depicts')\n",
      "s07:name ('E12_Production', 'P14_carried_out_by')\n",
      "s08:AUTHOR ('E12_Production', 'P14_carried_out_by')\n",
      "s09:name ('E12_Production', 'P14_carried_out_by')\n",
      "s10:artist ('E12_Production', 'P14_carried_out_by')\n",
      "s11:artist_name ('E12_Production', 'P14_carried_out_by')\n",
      "s12:artist_name ('E12_Production', 'P14_carried_out_by')\n",
      "s13:Artist name ('E12_Production', 'P14_carried_out_by')\n",
      "s14:artist ('E12_Production', 'P14_carried_out_by')\n",
      "s15:name ('E12_Production', 'P14_carried_out_by')\n",
      "s16:artist ('E12_Production', 'P14_carried_out_by')\n",
      "s17:artist ('E12_Production', 'P14_carried_out_by')\n",
      "s18:name ('E12_Production', 'P14_carried_out_by')\n",
      "s19:artist ('E12_Production', 'P14_carried_out_by')\n",
      "s20:Artist_Name ('E12_Production', 'P14_carried_out_by')\n",
      "s21:artistName ('E12_Production', 'P14_carried_out_by')\n",
      "s22:Artist_Name ('E12_Production', 'P14_carried_out_by')\n",
      "s23:Artist ('E12_Production', 'P14_carried_out_by')\n",
      "s23:Title ('E22_Man-Made_Object', 'P62_depicts')\n",
      "s24:artist ('E12_Production', 'P14_carried_out_by')\n",
      "s25:ArtistName ('E12_Production', 'P14_carried_out_by')\n",
      "s26:artistName ('E12_Production', 'P14_carried_out_by')\n",
      "s28:Maker ('E12_Production', 'P14_carried_out_by')\n",
      "s29:Attribution ('E12_Production', 'P14_carried_out_by')\n"
     ]
    }
   ],
   "source": [
    "for attr in person_attrs:\n",
    "    print(attr, attr.relation_type)"
   ]
  },
  {
   "cell_type": "code",
   "execution_count": 30,
   "id": "df083995",
   "metadata": {},
   "outputs": [
    {
     "data": {
      "text/plain": [
       "[18, 1, 13, 15, 29, 0, 6, 14, 26, 8]"
      ]
     },
     "execution_count": 30,
     "metadata": {},
     "output_type": "execute_result"
    }
   ],
   "source": [
    "random.seed(10)\n",
    "\n",
    "train_index = random.sample(range(len(person_attrs)), 10)\n",
    "train_index"
   ]
  },
  {
   "cell_type": "code",
   "execution_count": 31,
   "id": "c526babc",
   "metadata": {},
   "outputs": [],
   "source": [
    "ulan_ids = [(file, pd.read_csv(r\"C:\\D_Drive\\ASM\\experiment\\exp_20211101\\ULAN_id\\\\\"+ file)) for file in os.listdir(r\"C:\\D_Drive\\ASM\\experiment\\exp_20211101\\ULAN_id\")]\n",
    "\n",
    "def ulan_person_score(attr):\n",
    "    if attr.relation_type == (\"E22_Man-Made_Object\", \"P62_depicts\"):\n",
    "        return 1/3\n",
    "    for file, df in ulan_ids:\n",
    "        if attr.ds == file[:3]:\n",
    "            return 1 - (list(df[\"subject_id\"].values).count(0) / len(df))"
   ]
  },
  {
   "cell_type": "code",
   "execution_count": 32,
   "id": "bb86d9c7",
   "metadata": {},
   "outputs": [
    {
     "data": {
      "text/html": [
       "<div>\n",
       "<style scoped>\n",
       "    .dataframe tbody tr th:only-of-type {\n",
       "        vertical-align: middle;\n",
       "    }\n",
       "\n",
       "    .dataframe tbody tr th {\n",
       "        vertical-align: top;\n",
       "    }\n",
       "\n",
       "    .dataframe thead th {\n",
       "        text-align: right;\n",
       "    }\n",
       "</style>\n",
       "<table border=\"1\" class=\"dataframe\">\n",
       "  <thead>\n",
       "    <tr style=\"text-align: right;\">\n",
       "      <th></th>\n",
       "      <th>rel1_score</th>\n",
       "      <th>rel2_score</th>\n",
       "      <th>ulan_person_score</th>\n",
       "      <th>real_relation</th>\n",
       "      <th>label</th>\n",
       "    </tr>\n",
       "  </thead>\n",
       "  <tbody>\n",
       "    <tr>\n",
       "      <th>s01:Attribution</th>\n",
       "      <td>0.357188</td>\n",
       "      <td>0.308772</td>\n",
       "      <td>0.867925</td>\n",
       "      <td>(E12_Production, P14_carried_out_by)</td>\n",
       "      <td>0</td>\n",
       "    </tr>\n",
       "    <tr>\n",
       "      <th>s02:Artist Name</th>\n",
       "      <td>0.574867</td>\n",
       "      <td>1.214068</td>\n",
       "      <td>0.930233</td>\n",
       "      <td>(E12_Production, P14_carried_out_by)</td>\n",
       "      <td>0</td>\n",
       "    </tr>\n",
       "    <tr>\n",
       "      <th>s03:name</th>\n",
       "      <td>0.584143</td>\n",
       "      <td>0.896439</td>\n",
       "      <td>0.796178</td>\n",
       "      <td>(E12_Production, P14_carried_out_by)</td>\n",
       "      <td>0</td>\n",
       "    </tr>\n",
       "    <tr>\n",
       "      <th>s04:artist</th>\n",
       "      <td>0.399451</td>\n",
       "      <td>1.144844</td>\n",
       "      <td>0.928571</td>\n",
       "      <td>(E12_Production, P14_carried_out_by)</td>\n",
       "      <td>0</td>\n",
       "    </tr>\n",
       "    <tr>\n",
       "      <th>s05:Who</th>\n",
       "      <td>0.701393</td>\n",
       "      <td>0.573485</td>\n",
       "      <td>1.000000</td>\n",
       "      <td>(E12_Production, P14_carried_out_by)</td>\n",
       "      <td>0</td>\n",
       "    </tr>\n",
       "    <tr>\n",
       "      <th>s06:Artist</th>\n",
       "      <td>0.399451</td>\n",
       "      <td>1.144844</td>\n",
       "      <td>0.800000</td>\n",
       "      <td>(E12_Production, P14_carried_out_by)</td>\n",
       "      <td>0</td>\n",
       "    </tr>\n",
       "    <tr>\n",
       "      <th>s06:Title</th>\n",
       "      <td>0.468514</td>\n",
       "      <td>0.370211</td>\n",
       "      <td>0.333333</td>\n",
       "      <td>(E22_Man-Made_Object, P62_depicts)</td>\n",
       "      <td>1</td>\n",
       "    </tr>\n",
       "    <tr>\n",
       "      <th>s07:name</th>\n",
       "      <td>0.584143</td>\n",
       "      <td>0.896439</td>\n",
       "      <td>0.693878</td>\n",
       "      <td>(E12_Production, P14_carried_out_by)</td>\n",
       "      <td>0</td>\n",
       "    </tr>\n",
       "    <tr>\n",
       "      <th>s08:AUTHOR</th>\n",
       "      <td>0.430323</td>\n",
       "      <td>0.556221</td>\n",
       "      <td>0.645161</td>\n",
       "      <td>(E12_Production, P14_carried_out_by)</td>\n",
       "      <td>0</td>\n",
       "    </tr>\n",
       "    <tr>\n",
       "      <th>s09:name</th>\n",
       "      <td>0.584143</td>\n",
       "      <td>0.896439</td>\n",
       "      <td>0.250000</td>\n",
       "      <td>(E12_Production, P14_carried_out_by)</td>\n",
       "      <td>0</td>\n",
       "    </tr>\n",
       "    <tr>\n",
       "      <th>s10:artist</th>\n",
       "      <td>0.399451</td>\n",
       "      <td>1.144844</td>\n",
       "      <td>0.490415</td>\n",
       "      <td>(E12_Production, P14_carried_out_by)</td>\n",
       "      <td>0</td>\n",
       "    </tr>\n",
       "    <tr>\n",
       "      <th>s11:artist_name</th>\n",
       "      <td>0.574867</td>\n",
       "      <td>1.214068</td>\n",
       "      <td>0.929636</td>\n",
       "      <td>(E12_Production, P14_carried_out_by)</td>\n",
       "      <td>0</td>\n",
       "    </tr>\n",
       "    <tr>\n",
       "      <th>s12:artist_name</th>\n",
       "      <td>0.574867</td>\n",
       "      <td>1.214068</td>\n",
       "      <td>0.848134</td>\n",
       "      <td>(E12_Production, P14_carried_out_by)</td>\n",
       "      <td>0</td>\n",
       "    </tr>\n",
       "    <tr>\n",
       "      <th>s13:Artist name</th>\n",
       "      <td>0.574867</td>\n",
       "      <td>1.214068</td>\n",
       "      <td>0.758065</td>\n",
       "      <td>(E12_Production, P14_carried_out_by)</td>\n",
       "      <td>0</td>\n",
       "    </tr>\n",
       "    <tr>\n",
       "      <th>s14:artist</th>\n",
       "      <td>0.399451</td>\n",
       "      <td>1.144844</td>\n",
       "      <td>0.444681</td>\n",
       "      <td>(E12_Production, P14_carried_out_by)</td>\n",
       "      <td>0</td>\n",
       "    </tr>\n",
       "    <tr>\n",
       "      <th>s15:name</th>\n",
       "      <td>0.584143</td>\n",
       "      <td>0.896439</td>\n",
       "      <td>0.923810</td>\n",
       "      <td>(E12_Production, P14_carried_out_by)</td>\n",
       "      <td>0</td>\n",
       "    </tr>\n",
       "    <tr>\n",
       "      <th>s16:artist</th>\n",
       "      <td>0.399451</td>\n",
       "      <td>1.144844</td>\n",
       "      <td>0.949153</td>\n",
       "      <td>(E12_Production, P14_carried_out_by)</td>\n",
       "      <td>0</td>\n",
       "    </tr>\n",
       "    <tr>\n",
       "      <th>s17:artist</th>\n",
       "      <td>0.399451</td>\n",
       "      <td>1.144844</td>\n",
       "      <td>0.845238</td>\n",
       "      <td>(E12_Production, P14_carried_out_by)</td>\n",
       "      <td>0</td>\n",
       "    </tr>\n",
       "    <tr>\n",
       "      <th>s18:name</th>\n",
       "      <td>0.584143</td>\n",
       "      <td>0.896439</td>\n",
       "      <td>0.805732</td>\n",
       "      <td>(E12_Production, P14_carried_out_by)</td>\n",
       "      <td>0</td>\n",
       "    </tr>\n",
       "    <tr>\n",
       "      <th>s19:artist</th>\n",
       "      <td>0.399451</td>\n",
       "      <td>1.144844</td>\n",
       "      <td>1.000000</td>\n",
       "      <td>(E12_Production, P14_carried_out_by)</td>\n",
       "      <td>0</td>\n",
       "    </tr>\n",
       "    <tr>\n",
       "      <th>s20:Artist_Name</th>\n",
       "      <td>0.574867</td>\n",
       "      <td>1.214068</td>\n",
       "      <td>0.750000</td>\n",
       "      <td>(E12_Production, P14_carried_out_by)</td>\n",
       "      <td>0</td>\n",
       "    </tr>\n",
       "    <tr>\n",
       "      <th>s21:artistName</th>\n",
       "      <td>0.574867</td>\n",
       "      <td>1.214068</td>\n",
       "      <td>0.894068</td>\n",
       "      <td>(E12_Production, P14_carried_out_by)</td>\n",
       "      <td>0</td>\n",
       "    </tr>\n",
       "    <tr>\n",
       "      <th>s22:Artist_Name</th>\n",
       "      <td>0.574867</td>\n",
       "      <td>1.214068</td>\n",
       "      <td>0.956829</td>\n",
       "      <td>(E12_Production, P14_carried_out_by)</td>\n",
       "      <td>0</td>\n",
       "    </tr>\n",
       "    <tr>\n",
       "      <th>s23:Artist</th>\n",
       "      <td>0.399451</td>\n",
       "      <td>1.144844</td>\n",
       "      <td>0.800000</td>\n",
       "      <td>(E12_Production, P14_carried_out_by)</td>\n",
       "      <td>0</td>\n",
       "    </tr>\n",
       "    <tr>\n",
       "      <th>s23:Title</th>\n",
       "      <td>0.468514</td>\n",
       "      <td>0.370211</td>\n",
       "      <td>0.333333</td>\n",
       "      <td>(E22_Man-Made_Object, P62_depicts)</td>\n",
       "      <td>1</td>\n",
       "    </tr>\n",
       "    <tr>\n",
       "      <th>s24:artist</th>\n",
       "      <td>0.399451</td>\n",
       "      <td>1.144844</td>\n",
       "      <td>0.886905</td>\n",
       "      <td>(E12_Production, P14_carried_out_by)</td>\n",
       "      <td>0</td>\n",
       "    </tr>\n",
       "    <tr>\n",
       "      <th>s25:ArtistName</th>\n",
       "      <td>0.574867</td>\n",
       "      <td>1.214068</td>\n",
       "      <td>0.438356</td>\n",
       "      <td>(E12_Production, P14_carried_out_by)</td>\n",
       "      <td>0</td>\n",
       "    </tr>\n",
       "    <tr>\n",
       "      <th>s26:artistName</th>\n",
       "      <td>0.574867</td>\n",
       "      <td>1.214068</td>\n",
       "      <td>0.992883</td>\n",
       "      <td>(E12_Production, P14_carried_out_by)</td>\n",
       "      <td>0</td>\n",
       "    </tr>\n",
       "    <tr>\n",
       "      <th>s28:Maker</th>\n",
       "      <td>-0.040533</td>\n",
       "      <td>-0.068669</td>\n",
       "      <td>1.000000</td>\n",
       "      <td>(E12_Production, P14_carried_out_by)</td>\n",
       "      <td>0</td>\n",
       "    </tr>\n",
       "    <tr>\n",
       "      <th>s29:Attribution</th>\n",
       "      <td>0.357188</td>\n",
       "      <td>0.308772</td>\n",
       "      <td>1.000000</td>\n",
       "      <td>(E12_Production, P14_carried_out_by)</td>\n",
       "      <td>0</td>\n",
       "    </tr>\n",
       "  </tbody>\n",
       "</table>\n",
       "</div>"
      ],
      "text/plain": [
       "                 rel1_score  rel2_score  ulan_person_score  \\\n",
       "s01:Attribution    0.357188    0.308772           0.867925   \n",
       "s02:Artist Name    0.574867    1.214068           0.930233   \n",
       "s03:name           0.584143    0.896439           0.796178   \n",
       "s04:artist         0.399451    1.144844           0.928571   \n",
       "s05:Who            0.701393    0.573485           1.000000   \n",
       "s06:Artist         0.399451    1.144844           0.800000   \n",
       "s06:Title          0.468514    0.370211           0.333333   \n",
       "s07:name           0.584143    0.896439           0.693878   \n",
       "s08:AUTHOR         0.430323    0.556221           0.645161   \n",
       "s09:name           0.584143    0.896439           0.250000   \n",
       "s10:artist         0.399451    1.144844           0.490415   \n",
       "s11:artist_name    0.574867    1.214068           0.929636   \n",
       "s12:artist_name    0.574867    1.214068           0.848134   \n",
       "s13:Artist name    0.574867    1.214068           0.758065   \n",
       "s14:artist         0.399451    1.144844           0.444681   \n",
       "s15:name           0.584143    0.896439           0.923810   \n",
       "s16:artist         0.399451    1.144844           0.949153   \n",
       "s17:artist         0.399451    1.144844           0.845238   \n",
       "s18:name           0.584143    0.896439           0.805732   \n",
       "s19:artist         0.399451    1.144844           1.000000   \n",
       "s20:Artist_Name    0.574867    1.214068           0.750000   \n",
       "s21:artistName     0.574867    1.214068           0.894068   \n",
       "s22:Artist_Name    0.574867    1.214068           0.956829   \n",
       "s23:Artist         0.399451    1.144844           0.800000   \n",
       "s23:Title          0.468514    0.370211           0.333333   \n",
       "s24:artist         0.399451    1.144844           0.886905   \n",
       "s25:ArtistName     0.574867    1.214068           0.438356   \n",
       "s26:artistName     0.574867    1.214068           0.992883   \n",
       "s28:Maker         -0.040533   -0.068669           1.000000   \n",
       "s29:Attribution    0.357188    0.308772           1.000000   \n",
       "\n",
       "                                        real_relation  label  \n",
       "s01:Attribution  (E12_Production, P14_carried_out_by)      0  \n",
       "s02:Artist Name  (E12_Production, P14_carried_out_by)      0  \n",
       "s03:name         (E12_Production, P14_carried_out_by)      0  \n",
       "s04:artist       (E12_Production, P14_carried_out_by)      0  \n",
       "s05:Who          (E12_Production, P14_carried_out_by)      0  \n",
       "s06:Artist       (E12_Production, P14_carried_out_by)      0  \n",
       "s06:Title          (E22_Man-Made_Object, P62_depicts)      1  \n",
       "s07:name         (E12_Production, P14_carried_out_by)      0  \n",
       "s08:AUTHOR       (E12_Production, P14_carried_out_by)      0  \n",
       "s09:name         (E12_Production, P14_carried_out_by)      0  \n",
       "s10:artist       (E12_Production, P14_carried_out_by)      0  \n",
       "s11:artist_name  (E12_Production, P14_carried_out_by)      0  \n",
       "s12:artist_name  (E12_Production, P14_carried_out_by)      0  \n",
       "s13:Artist name  (E12_Production, P14_carried_out_by)      0  \n",
       "s14:artist       (E12_Production, P14_carried_out_by)      0  \n",
       "s15:name         (E12_Production, P14_carried_out_by)      0  \n",
       "s16:artist       (E12_Production, P14_carried_out_by)      0  \n",
       "s17:artist       (E12_Production, P14_carried_out_by)      0  \n",
       "s18:name         (E12_Production, P14_carried_out_by)      0  \n",
       "s19:artist       (E12_Production, P14_carried_out_by)      0  \n",
       "s20:Artist_Name  (E12_Production, P14_carried_out_by)      0  \n",
       "s21:artistName   (E12_Production, P14_carried_out_by)      0  \n",
       "s22:Artist_Name  (E12_Production, P14_carried_out_by)      0  \n",
       "s23:Artist       (E12_Production, P14_carried_out_by)      0  \n",
       "s23:Title          (E22_Man-Made_Object, P62_depicts)      1  \n",
       "s24:artist       (E12_Production, P14_carried_out_by)      0  \n",
       "s25:ArtistName   (E12_Production, P14_carried_out_by)      0  \n",
       "s26:artistName   (E12_Production, P14_carried_out_by)      0  \n",
       "s28:Maker        (E12_Production, P14_carried_out_by)      0  \n",
       "s29:Attribution  (E12_Production, P14_carried_out_by)      0  "
      ]
     },
     "execution_count": 32,
     "metadata": {},
     "output_type": "execute_result"
    }
   ],
   "source": [
    "E21_rels = [(\"E12_Production\", \"P14_carried_out_by\"), (\"E22_Man-Made_Object\", \"P62_depicts\")]\n",
    "E21_df = pd.DataFrame(columns=[\"rel1_score\", \"rel2_score\", \"ulan_person_score\",\"real_relation\", \"label\"])\n",
    "\n",
    "for attr in person_attrs:\n",
    "    rel1_score = attr_rel_similarity(attr.attr_name, E21_rels[0])\n",
    "    rel2_score = attr_rel_similarity(attr.attr_name, E21_rels[1])\n",
    "    \n",
    "    person_score = ulan_person_score(attr)\n",
    "    \n",
    "    real_realtion = attr.relation_type\n",
    "    label = E21_rels.index(real_realtion)\n",
    "    E21_df.loc[attr.name] = [rel1_score, rel2_score, person_score,real_realtion, label]\n",
    "    \n",
    "\n",
    "E21_df"
   ]
  },
  {
   "cell_type": "code",
   "execution_count": null,
   "id": "51a69115",
   "metadata": {},
   "outputs": [],
   "source": []
  },
  {
   "cell_type": "code",
   "execution_count": 34,
   "id": "8086de91",
   "metadata": {},
   "outputs": [],
   "source": [
    "X = E21_df[[\"rel1_score\", \"rel2_score\", \"ulan_person_score\"]]\n",
    "y = E21_df[\"label\"].apply(int)\n",
    "\n",
    "def exp3(random_state):\n",
    "\n",
    "    random.seed(random_state)\n",
    "\n",
    "    \n",
    "    train_index = []\n",
    "    while True:\n",
    "        train_index = random.sample(range(30), 10)\n",
    "        if (6 in train_index) ^ (24 in train_index):\n",
    "            break\n",
    "            \n",
    "    train_attrs = [person_attrs[i].name for i in train_index]\n",
    "    test_attrs = [attr.name for attr in person_attrs if attr.name not in train_attrs]\n",
    "    \n",
    "    print(train_attrs)\n",
    "    print(test_attrs)\n",
    "    \n",
    "    X_train = X.loc[train_attrs]\n",
    "    X_test = X.loc[test_attrs]\n",
    "    y_train = y.loc[train_attrs]\n",
    "    y_test = y.loc[test_attrs]\n",
    "    \n",
    "    decision_tree = tree.DecisionTreeClassifier(random_state=0, class_weight=\"balanced\")\n",
    "    decision_tree.fit(X_train, y_train)\n",
    "    y_pred = decision_tree.predict(X_test)\n",
    "    \n",
    "    result_df = pd.DataFrame(y_test)\n",
    "    result_df[\"pred\"] = y_pred\n",
    "    \n",
    "    rel_dict = {0:\"E12_Production\", 1:\"E22_Man-Made_Object\"}\n",
    "    \n",
    "    result_df[\"label\"] = result_df[\"label\"].map(lambda x:rel_dict[x])\n",
    "    result_df[\"pred\"] = result_df[\"pred\"].map(lambda x:rel_dict[x])\n",
    "    dot_data = tree.export_graphviz(decision_tree, out_file=None, feature_names=X.columns, class_names=[\"E12_Production\", \"E22_Man-Made_Object\"])\n",
    "    graph = pydotplus.graph_from_dot_data(dot_data)\n",
    "    \n",
    "    matrix = confusion_matrix(y_test, y_pred)\n",
    "    matrix_df = pd.DataFrame(matrix, index=[\"E12_Production\", \"E22_Man-Made_Object\"], columns=[\"E12_Production\", \"E22_Man-Made_Object\"])\n",
    "    \n",
    "    return result_df, graph, matrix_df"
   ]
  },
  {
   "cell_type": "code",
   "execution_count": 35,
   "id": "0f96c2f9",
   "metadata": {},
   "outputs": [
    {
     "name": "stdout",
     "output_type": "stream",
     "text": [
      "['s05:Who', 's18:name', 's26:artistName', 's24:artist', 's23:Title', 's03:name', 's08:AUTHOR', 's04:artist', 's15:name', 's14:artist']\n",
      "['s01:Attribution', 's02:Artist Name', 's06:Artist', 's06:Title', 's07:name', 's09:name', 's10:artist', 's11:artist_name', 's12:artist_name', 's13:Artist name', 's16:artist', 's17:artist', 's19:artist', 's20:Artist_Name', 's21:artistName', 's22:Artist_Name', 's23:Artist', 's25:ArtistName', 's28:Maker', 's29:Attribution']\n",
      "['s19:artist', 's06:Title', 's29:Attribution', 's02:Artist Name', 's18:name', 's21:artistName', 's06:Artist', 's13:Artist name', 's20:Artist_Name', 's12:artist_name']\n",
      "['s01:Attribution', 's03:name', 's04:artist', 's05:Who', 's07:name', 's08:AUTHOR', 's09:name', 's10:artist', 's11:artist_name', 's14:artist', 's15:name', 's16:artist', 's17:artist', 's22:Artist_Name', 's23:Artist', 's23:Title', 's24:artist', 's25:ArtistName', 's26:artistName', 's28:Maker']\n",
      "['s25:ArtistName', 's17:artist', 's15:name', 's12:artist_name', 's20:Artist_Name', 's05:Who', 's07:name', 's24:artist', 's23:Title', 's16:artist']\n",
      "['s01:Attribution', 's02:Artist Name', 's03:name', 's04:artist', 's06:Artist', 's06:Title', 's08:AUTHOR', 's09:name', 's10:artist', 's11:artist_name', 's13:Artist name', 's14:artist', 's18:name', 's19:artist', 's21:artistName', 's22:Artist_Name', 's23:Artist', 's26:artistName', 's28:Maker', 's29:Attribution']\n",
      "['s12:artist_name', 's17:artist', 's09:name', 's24:artist', 's23:Title', 's02:Artist Name', 's07:name', 's16:artist', 's28:Maker', 's11:artist_name']\n",
      "['s01:Attribution', 's03:name', 's04:artist', 's05:Who', 's06:Artist', 's06:Title', 's08:AUTHOR', 's10:artist', 's13:Artist name', 's14:artist', 's15:name', 's18:name', 's19:artist', 's20:Artist_Name', 's21:artistName', 's22:Artist_Name', 's23:Artist', 's25:ArtistName', 's26:artistName', 's29:Attribution']\n",
      "['s25:ArtistName', 's14:artist', 's23:Title', 's07:name', 's20:Artist_Name', 's02:Artist Name', 's06:Artist', 's04:artist', 's11:artist_name', 's15:name']\n",
      "['s01:Attribution', 's03:name', 's05:Who', 's06:Title', 's08:AUTHOR', 's09:name', 's10:artist', 's12:artist_name', 's13:Artist name', 's16:artist', 's17:artist', 's18:name', 's19:artist', 's21:artistName', 's22:Artist_Name', 's23:Artist', 's24:artist', 's26:artistName', 's28:Maker', 's29:Attribution']\n"
     ]
    },
    {
     "data": {
      "image/png": "[encoded data removed]",
      "text/plain": [
       "<Figure size 432x288 with 1 Axes>"
      ]
     },
     "metadata": {
      "needs_background": "light"
     },
     "output_type": "display_data"
    },
    {
     "data": {
      "image/png": "[encoded data removed]",
      "text/plain": [
       "<Figure size 432x288 with 1 Axes>"
      ]
     },
     "metadata": {
      "needs_background": "light"
     },
     "output_type": "display_data"
    },
    {
     "data": {
      "image/png": "[encoded data removed]",
      "text/plain": [
       "<Figure size 432x288 with 1 Axes>"
      ]
     },
     "metadata": {
      "needs_background": "light"
     },
     "output_type": "display_data"
    },
    {
     "data": {
      "image/png": "[encoded data removed]",
      "text/plain": [
       "<Figure size 432x288 with 1 Axes>"
      ]
     },
     "metadata": {
      "needs_background": "light"
     },
     "output_type": "display_data"
    },
    {
     "data": {
      "image/png": "[encoded data removed]",
      "text/plain": [
       "<Figure size 432x288 with 1 Axes>"
      ]
     },
     "metadata": {
      "needs_background": "light"
     },
     "output_type": "display_data"
    }
   ],
   "source": [
    "for i in range(1, 6):\n",
    "    result_df, graph, matrix_df = exp3(i)\n",
    "    \n",
    "    result_df.to_csv(f\"../result/E21_Person/exp_{i}.csv\")\n",
    "    graph.write_pdf(f\"../result/E21_Person/tree_{i}.pdf\")\n",
    "    plt.figure()\n",
    "    sns.heatmap(matrix_df, annot=True, cbar=None, cmap=\"Blues\")\n",
    "    plt.title(\"Confusion Matrix\")\n",
    "    plt.ylabel(\"True Class\"), plt.xlabel(\"Predicted Class\")\n",
    "    plt.savefig(f\"../result/E21_Person/matrix_{i}.pdf\")"
   ]
  },
  {
   "cell_type": "code",
   "execution_count": null,
   "id": "a46e4429",
   "metadata": {},
   "outputs": [],
   "source": []
  },
  {
   "cell_type": "code",
   "execution_count": 36,
   "id": "6a589df1",
   "metadata": {},
   "outputs": [
    {
     "data": {
      "text/html": [
       "<div>\n",
       "<style scoped>\n",
       "    .dataframe tbody tr th:only-of-type {\n",
       "        vertical-align: middle;\n",
       "    }\n",
       "\n",
       "    .dataframe tbody tr th {\n",
       "        vertical-align: top;\n",
       "    }\n",
       "\n",
       "    .dataframe thead th {\n",
       "        text-align: right;\n",
       "    }\n",
       "</style>\n",
       "<table border=\"1\" class=\"dataframe\">\n",
       "  <thead>\n",
       "    <tr style=\"text-align: right;\">\n",
       "      <th></th>\n",
       "      <th>rel1_score</th>\n",
       "      <th>rel2_score</th>\n",
       "      <th>rel3_score</th>\n",
       "      <th>rel4_score</th>\n",
       "      <th>label</th>\n",
       "    </tr>\n",
       "  </thead>\n",
       "  <tbody>\n",
       "    <tr>\n",
       "      <th>s05:Geography</th>\n",
       "      <td>0.307388</td>\n",
       "      <td>0.412040</td>\n",
       "      <td>0.405502</td>\n",
       "      <td>0.515953</td>\n",
       "      <td>0</td>\n",
       "    </tr>\n",
       "    <tr>\n",
       "      <th>s20:residence</th>\n",
       "      <td>0.572195</td>\n",
       "      <td>1.061315</td>\n",
       "      <td>0.700304</td>\n",
       "      <td>0.732032</td>\n",
       "      <td>1</td>\n",
       "    </tr>\n",
       "    <tr>\n",
       "      <th>s26:birthPlaceCity</th>\n",
       "      <td>0.961828</td>\n",
       "      <td>1.109559</td>\n",
       "      <td>1.422278</td>\n",
       "      <td>1.160672</td>\n",
       "      <td>2</td>\n",
       "    </tr>\n",
       "    <tr>\n",
       "      <th>s28:Home-Location</th>\n",
       "      <td>0.855428</td>\n",
       "      <td>1.006517</td>\n",
       "      <td>0.887222</td>\n",
       "      <td>1.209649</td>\n",
       "      <td>3</td>\n",
       "    </tr>\n",
       "    <tr>\n",
       "      <th>s28:Place-Made</th>\n",
       "      <td>1.144177</td>\n",
       "      <td>1.140555</td>\n",
       "      <td>1.151268</td>\n",
       "      <td>1.299996</td>\n",
       "      <td>0</td>\n",
       "    </tr>\n",
       "  </tbody>\n",
       "</table>\n",
       "</div>"
      ],
      "text/plain": [
       "                    rel1_score  rel2_score  rel3_score  rel4_score  label\n",
       "s05:Geography         0.307388    0.412040    0.405502    0.515953      0\n",
       "s20:residence         0.572195    1.061315    0.700304    0.732032      1\n",
       "s26:birthPlaceCity    0.961828    1.109559    1.422278    1.160672      2\n",
       "s28:Home-Location     0.855428    1.006517    0.887222    1.209649      3\n",
       "s28:Place-Made        1.144177    1.140555    1.151268    1.299996      0"
      ]
     },
     "execution_count": 36,
     "metadata": {},
     "output_type": "execute_result"
    }
   ],
   "source": [
    "E53_df = pd.DataFrame(columns=[\"rel1_score\", \"rel2_score\", \"rel3_score\", \"rel4_score\", \"label\"],\n",
    "                      index=[\"s05:Geography\", \"s20:residence\", \"s26:birthPlaceCity\", \"s28:Home-Location\", \"s28:Place-Made\"],\n",
    "                      data =[\n",
    "                          [0.30738808493949277, 0.41204047172792546, 0.4055021337231949, 0.515952592671373, 0],\n",
    "                          [0.5721951910617108, 1.061314856375658, 0.7003043649043998, 0.7320324345459935, 1],\n",
    "                          [0.961828288057294, 1.1095587846360688, 1.4222780214280806, 1.1606722734410417, 2],\n",
    "                          [0.8554275197366538, 1.0065169173512931, 0.887222217491902, 1.2096494415889176, 3],\n",
    "                          [1.1441767528752147,  1.1405554718410877, 1.1512678044176117, 1.2999963491961783, 0]\n",
    "                      ])\n",
    "\n",
    "E53_df"
   ]
  },
  {
   "cell_type": "code",
   "execution_count": 37,
   "id": "f7d500fc",
   "metadata": {},
   "outputs": [],
   "source": [
    "X = E53_df[[\"rel1_score\", \"rel2_score\", \"rel3_score\", \"rel4_score\"]]\n",
    "y = E53_df[\"label\"].apply(int)"
   ]
  },
  {
   "cell_type": "code",
   "execution_count": null,
   "id": "fe25585c",
   "metadata": {},
   "outputs": [],
   "source": []
  },
  {
   "cell_type": "code",
   "execution_count": 38,
   "id": "a0d654ff",
   "metadata": {},
   "outputs": [
    {
     "data": {
      "image/png": "[encoded data removed]",
      "text/plain": [
       "<IPython.core.display.Image object>"
      ]
     },
     "execution_count": 38,
     "metadata": {},
     "output_type": "execute_result"
    }
   ],
   "source": [
    "from sklearn import tree\n",
    "import pydotplus\n",
    "from IPython.display import Image\n",
    "from sklearn.metrics import confusion_matrix\n",
    "import seaborn as sns\n",
    "\n",
    "decision_tree = tree.DecisionTreeClassifier(random_state=0, class_weight=\"balanced\")\n",
    "decision_tree.fit(X,y)\n",
    "dot_data = tree.export_graphviz(decision_tree, out_file=None, feature_names=X.columns, class_names=[\"E12_Production\",\"E21_Person\", \"E67_Birth\", \"E22_Man-Made_Object\"])\n",
    "graph = pydotplus.graph_from_dot_data(dot_data)\n",
    "Image(graph.create_png())\n",
    "\n",
    "# matrix = confusion_matrix(y, decision_tree.predict(X))\n",
    "# matrix_df = pd.DataFrame(matrix, index=[\"E12_Production\",\"E21_Person\", \"E67_Birth\", \"E22_Man-Made_Object\"], columns=[\"E12_Production\",\"E21_Person\", \"E67_Birth\", \"E22_Man-Made_Object\"])\n",
    "# sns.heatmap(matrix_df, annot=True, cbar=None, cmap=\"Blues\")"
   ]
  },
  {
   "cell_type": "code",
   "execution_count": null,
   "id": "3f0713c1",
   "metadata": {},
   "outputs": [],
   "source": []
  },
  {
   "cell_type": "code",
   "execution_count": null,
   "id": "368afbce",
   "metadata": {},
   "outputs": [],
   "source": []
  }
 ],
 "metadata": {
  "interpreter": {
   "hash": "9b7d4a1a4b216eb0c3edf4fa3e63655fb9336e6a9721207d2a65bdf1b50d88d8"
  },
  "kernelspec": {
   "display_name": "Python 3.8.9 64-bit",
   "language": "python",
   "name": "python3"
  },
  "language_info": {
   "codemirror_mode": {
    "name": "ipython",
    "version": 3
   },
   "file_extension": ".py",
   "mimetype": "text/x-python",
   "name": "python",
   "nbconvert_exporter": "python",
   "pygments_lexer": "ipython3",
   "version": "3.8.9"
  }
 },
 "nbformat": 4,
 "nbformat_minor": 5
}
