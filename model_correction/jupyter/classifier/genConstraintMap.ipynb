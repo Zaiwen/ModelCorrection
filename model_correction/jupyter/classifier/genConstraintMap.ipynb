{
 "cells": [
  {
   "cell_type": "code",
   "execution_count": 3,
   "metadata": {},
   "outputs": [],
   "source": [
    "import os\n",
    "import pandas as pd\n",
    "\n",
    "os.chdir(r\"C:\\D_Drive\\ASM\\DataSets\\weapon-lod\\sources-names\")\n"
   ]
  },
  {
   "cell_type": "code",
   "execution_count": 4,
   "metadata": {},
   "outputs": [],
   "source": [
    "ds = [(pd.read_csv(file), file) for file in os.listdir()]"
   ]
  },
  {
   "cell_type": "code",
   "execution_count": 32,
   "metadata": {},
   "outputs": [],
   "source": [
    "import re\n",
    "from sklearn.feature_extraction.text import TfidfVectorizer\n",
    "from sklearn.metrics.pairwise import cosine_similarity\n",
    "\n",
    "def preprocess(attr):\n",
    "    return attr.apply(lambda s: re.sub(\"[^\\w\\s]\", \"\", s.lower()))\n",
    "\n",
    "\n",
    "def jaccard(x, y):\n",
    "    x = preprocess(x)\n",
    "    y = preprocess(y)\n",
    "    intersection_cardinality = len(set(x) & set(y))\n",
    "    union_cardinality = len(set(x) | set(y))\n",
    "    return intersection_cardinality / float(union_cardinality)\n",
    "\n",
    "def tfidf_cosine_similarity(x, y):\n",
    "    docx = \" \".join(set(x))\n",
    "    docy = \" \".join(set(y))\n",
    "    vectorizer = TfidfVectorizer()\n",
    "    tfidf_matrix = vectorizer.fit_transform([docx.lower(), docy.lower()])\n",
    "    result = cosine_similarity(tfidf_matrix[0], tfidf_matrix[1])[0][0]\n",
    "    return result"
   ]
  },
  {
   "cell_type": "code",
   "execution_count": 26,
   "metadata": {},
   "outputs": [],
   "source": []
  },
  {
   "cell_type": "code",
   "execution_count": null,
   "metadata": {},
   "outputs": [],
   "source": []
  }
 ],
 "metadata": {
  "interpreter": {
   "hash": "46d977a2227e6a342343c7d4f5bf9919851bd748d35e54e8a1bb3947e68ea19e"
  },
  "kernelspec": {
   "display_name": "Python 3.7.9 64-bit (system)",
   "language": "python",
   "name": "python3"
  },
  "language_info": {
   "codemirror_mode": {
    "name": "ipython",
    "version": 3
   },
   "file_extension": ".py",
   "mimetype": "text/x-python",
   "name": "python",
   "nbconvert_exporter": "python",
   "pygments_lexer": "ipython3",
   "version": "3.7.9"
  },
  "orig_nbformat": 4
 },
 "nbformat": 4,
 "nbformat_minor": 2
}
