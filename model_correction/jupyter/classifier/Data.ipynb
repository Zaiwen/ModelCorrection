{
 "cells": [
  {
   "cell_type": "code",
   "execution_count": 14,
   "id": "d840358e",
   "metadata": {},
   "outputs": [],
   "source": [
    "import os\n",
    "import pandas as pd\n"
   ]
  },
  {
   "cell_type": "code",
   "execution_count": 13,
   "id": "13c8704e",
   "metadata": {},
   "outputs": [],
   "source": [
    "os.chdir(r\"D:\\exp_20211101\")"
   ]
  },
  {
   "cell_type": "code",
   "execution_count": 19,
   "id": "4b79a4d9",
   "metadata": {},
   "outputs": [],
   "source": [
    "biography_df = pd.read_csv(\"ULAN/biography.csv\")"
   ]
  },
  {
   "cell_type": "code",
   "execution_count": 23,
   "id": "126e32b9",
   "metadata": {},
   "outputs": [],
   "source": [
    "files = os.listdir(\"ULAN_id\")"
   ]
  },
  {
   "cell_type": "code",
   "execution_count": 41,
   "id": "dcb18971",
   "metadata": {},
   "outputs": [],
   "source": [
    "for file in files:\n",
    "    subject_ids = pd.read_csv(\"ULAN_id/\"+file)[\"subject_id\"]\n",
    "    result_df = pd.DataFrame(columns =[\"birth_date\", \"death_date\"])\n",
    "    \n",
    "    for i, subject_id in enumerate(subject_ids):\n",
    "        if subject_id > 0:\n",
    "            result_df.loc[i] = [biography_df[biography_df[\"subject_id\"] == subject_id][\"birth_date\"].values[0], biography_df[biography_df[\"subject_id\"] == subject_id][\"death_date\"].values[0]]\n",
    "        else:\n",
    "            result_df.loc[i] = [0,0]\n",
    "\n",
    "    result_df.to_csv(f\"ULAN_time_search/{file[:8]}_time_search.csv\", index=False)\n",
    "    "
   ]
  },
  {
   "cell_type": "code",
   "execution_count": 31,
   "id": "dca842dd",
   "metadata": {},
   "outputs": [
    {
     "data": {
      "text/html": [
       "<div>\n",
       "<style scoped>\n",
       "    .dataframe tbody tr th:only-of-type {\n",
       "        vertical-align: middle;\n",
       "    }\n",
       "\n",
       "    .dataframe tbody tr th {\n",
       "        vertical-align: top;\n",
       "    }\n",
       "\n",
       "    .dataframe thead th {\n",
       "        text-align: right;\n",
       "    }\n",
       "</style>\n",
       "<table border=\"1\" class=\"dataframe\">\n",
       "  <thead>\n",
       "    <tr style=\"text-align: right;\">\n",
       "      <th></th>\n",
       "      <th>birth_date</th>\n",
       "      <th>death_date</th>\n",
       "      <th>subject_id</th>\n",
       "    </tr>\n",
       "  </thead>\n",
       "  <tbody>\n",
       "    <tr>\n",
       "      <th>0</th>\n",
       "      <td>1830</td>\n",
       "      <td>1892</td>\n",
       "      <td>500000934</td>\n",
       "    </tr>\n",
       "    <tr>\n",
       "      <th>1</th>\n",
       "      <td>1830</td>\n",
       "      <td>1892</td>\n",
       "      <td>500000934</td>\n",
       "    </tr>\n",
       "    <tr>\n",
       "      <th>2</th>\n",
       "      <td>1830</td>\n",
       "      <td>1892</td>\n",
       "      <td>500000934</td>\n",
       "    </tr>\n",
       "    <tr>\n",
       "      <th>3</th>\n",
       "      <td>1880</td>\n",
       "      <td>1980</td>\n",
       "      <td>500000935</td>\n",
       "    </tr>\n",
       "    <tr>\n",
       "      <th>4</th>\n",
       "      <td>1926</td>\n",
       "      <td>2026</td>\n",
       "      <td>500000936</td>\n",
       "    </tr>\n",
       "    <tr>\n",
       "      <th>...</th>\n",
       "      <td>...</td>\n",
       "      <td>...</td>\n",
       "      <td>...</td>\n",
       "    </tr>\n",
       "    <tr>\n",
       "      <th>546896</th>\n",
       "      <td>1930</td>\n",
       "      <td>2004</td>\n",
       "      <td>500086588</td>\n",
       "    </tr>\n",
       "    <tr>\n",
       "      <th>546897</th>\n",
       "      <td>1500</td>\n",
       "      <td>2080</td>\n",
       "      <td>500086588</td>\n",
       "    </tr>\n",
       "    <tr>\n",
       "      <th>546898</th>\n",
       "      <td>1871</td>\n",
       "      <td>2080</td>\n",
       "      <td>500407023</td>\n",
       "    </tr>\n",
       "    <tr>\n",
       "      <th>546899</th>\n",
       "      <td>1500</td>\n",
       "      <td>2080</td>\n",
       "      <td>500407023</td>\n",
       "    </tr>\n",
       "    <tr>\n",
       "      <th>546900</th>\n",
       "      <td>1818</td>\n",
       "      <td>1884</td>\n",
       "      <td>500183685</td>\n",
       "    </tr>\n",
       "  </tbody>\n",
       "</table>\n",
       "<p>546901 rows × 3 columns</p>\n",
       "</div>"
      ],
      "text/plain": [
       "        birth_date  death_date  subject_id\n",
       "0             1830        1892   500000934\n",
       "1             1830        1892   500000934\n",
       "2             1830        1892   500000934\n",
       "3             1880        1980   500000935\n",
       "4             1926        2026   500000936\n",
       "...            ...         ...         ...\n",
       "546896        1930        2004   500086588\n",
       "546897        1500        2080   500086588\n",
       "546898        1871        2080   500407023\n",
       "546899        1500        2080   500407023\n",
       "546900        1818        1884   500183685\n",
       "\n",
       "[546901 rows x 3 columns]"
      ]
     },
     "execution_count": 31,
     "metadata": {},
     "output_type": "execute_result"
    }
   ],
   "source": [
    "biography_df"
   ]
  },
  {
   "cell_type": "code",
   "execution_count": 2,
   "id": "cc292b93",
   "metadata": {},
   "outputs": [],
   "source": []
  },
  {
   "cell_type": "code",
   "execution_count": 7,
   "id": "6bd21a86",
   "metadata": {},
   "outputs": [],
   "source": []
  },
  {
   "cell_type": "code",
   "execution_count": 8,
   "id": "7faa18eb",
   "metadata": {},
   "outputs": [],
   "source": []
  },
  {
   "cell_type": "code",
   "execution_count": 9,
   "id": "013887ce",
   "metadata": {},
   "outputs": [],
   "source": []
  },
  {
   "cell_type": "code",
   "execution_count": null,
   "id": "95490f32",
   "metadata": {},
   "outputs": [],
   "source": []
  }
 ],
 "metadata": {
  "kernelspec": {
   "display_name": "Python 3 (ipykernel)",
   "language": "python",
   "name": "python3"
  },
  "language_info": {
   "codemirror_mode": {
    "name": "ipython",
    "version": 3
   },
   "file_extension": ".py",
   "mimetype": "text/x-python",
   "name": "python",
   "nbconvert_exporter": "python",
   "pygments_lexer": "ipython3",
   "version": "3.8.9"
  }
 },
 "nbformat": 4,
 "nbformat_minor": 5
}
