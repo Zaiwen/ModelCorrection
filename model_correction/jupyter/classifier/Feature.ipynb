{
 "cells": [
  {
   "cell_type": "code",
   "execution_count": 1,
   "id": "4258367c",
   "metadata": {},
   "outputs": [],
   "source": [
    "import pandas as pd\n",
    "import scipy.stats as stats\n",
    "from sklearn.feature_extraction.text import TfidfVectorizer\n",
    "from sklearn.metrics.pairwise import cosine_similarity\n",
    "import spacy\n",
    "\n",
    "nlp = spacy.load(\"en_core_web_md\")"
   ]
  },
  {
   "cell_type": "code",
   "execution_count": 4,
   "id": "7b7ebc9a",
   "metadata": {},
   "outputs": [],
   "source": [
    "def jaccard_similarity(x, y):\n",
    "    intersection_cardinality = len(set.intersection(*[set(x), set(y)]))\n",
    "    union_cardinality = len(set.union(*[set(x), set(y)]))\n",
    "    return intersection_cardinality / float(union_cardinality)\n",
    "\n",
    "\n",
    "def tfidf_cosine_similarity(x, y):\n",
    "    docx = \" \".join(set(x))\n",
    "    docy = \" \".join(set(y))\n",
    "    vectorizer = TfidfVectorizer()\n",
    "    tfidf_matrix = vectorizer.fit_transform([docx.lower(), docy.lower()])\n",
    "    result = cosine_similarity(tfidf_matrix[0], tfidf_matrix[1])[0][0]\n",
    "    return result\n",
    "\n",
    "def get_freq_dict(data):\n",
    "    freq_dict = {}.fromkeys(data, 0)\n",
    "    for ele in data:\n",
    "        freq_dict[ele] += 1\n",
    "\n",
    "    return freq_dict\n",
    "\n",
    "\n",
    "def get_distribution(data):\n",
    "    freq_dict = get_freq_dict(data)\n",
    "    histogram_list = []\n",
    "    i = 0\n",
    "    for v in reversed(sorted(freq_dict.values())):\n",
    "        for _ in range(int(v*100/len(data))):\n",
    "            histogram_list.append(i)\n",
    "        i += 1\n",
    "    return histogram_list\n",
    "\n",
    "\n",
    "def mann_whitney_test(x, y):\n",
    "    x = get_distribution(x)\n",
    "    y = get_distribution(y)\n",
    "    if len(x) > 1 and len(y) > 1:\n",
    "        if x[-1] != 0 and y[-1] != 0:\n",
    "            result = stats.mannwhitneyu(x, y)[1]\n",
    "            return result\n",
    "\n",
    "    return 0\n",
    "\n",
    "\n",
    "def attr_rel_similarity(attr_name, rel):\n",
    "    \n",
    "    def attr_seg(attr_name):\n",
    "        s = \"\"\n",
    "        if \" \" not in attr_name:\n",
    "            for c in attr_name:\n",
    "                if c.isupper():\n",
    "                    s += \" \"\n",
    "                if c.isalpha():\n",
    "                    s += c\n",
    "                else:\n",
    "                    s += \" \"\n",
    "            return s.strip()\n",
    "        else:\n",
    "            return attr_name\n",
    "    \n",
    "    def rel_seg(r):\n",
    "        return \" \".join(r.split(\"_\")[1:])\n",
    "    \n",
    "    attr_name = attr_seg(attr_name)\n",
    "    \n",
    "    return nlp(attr_name).similarity(nlp(rel_seg(rel[0]))) + nlp(attr_name).similarity(nlp(rel_seg(rel[1])))\n",
    "\n",
    "\n",
    "def ulan_search():\n",
    "    pass"
   ]
  },
  {
   "cell_type": "code",
   "execution_count": 3,
   "id": "b4408e3e",
   "metadata": {},
   "outputs": [
    {
     "data": {
      "text/plain": [
       "0.5"
      ]
     },
     "execution_count": 3,
     "metadata": {},
     "output_type": "execute_result"
    }
   ],
   "source": []
  },
  {
   "cell_type": "code",
   "execution_count": null,
   "id": "79be3d78",
   "metadata": {},
   "outputs": [],
   "source": []
  },
  {
   "cell_type": "code",
   "execution_count": null,
   "id": "c3bc0a0e",
   "metadata": {},
   "outputs": [],
   "source": []
  }
 ],
 "metadata": {
  "kernelspec": {
   "display_name": "Python 3 (ipykernel)",
   "language": "python",
   "name": "python3"
  },
  "language_info": {
   "codemirror_mode": {
    "name": "ipython",
    "version": 3
   },
   "file_extension": ".py",
   "mimetype": "text/x-python",
   "name": "python",
   "nbconvert_exporter": "python",
   "pygments_lexer": "ipython3",
   "version": "3.8.9"
  }
 },
 "nbformat": 4,
 "nbformat_minor": 5
}
