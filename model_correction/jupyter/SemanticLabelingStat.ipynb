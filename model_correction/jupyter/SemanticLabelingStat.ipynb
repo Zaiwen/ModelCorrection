{
 "cells": [
  {
   "cell_type": "code",
   "execution_count": 19,
   "metadata": {},
   "outputs": [],
   "source": [
    "import pandas as pd\n"
   ]
  },
  {
   "cell_type": "code",
   "execution_count": 20,
   "metadata": {},
   "outputs": [],
   "source": [
    "df = pd.read_csv(r\"C:\\D_Drive\\ASM\\experiment\\semanticLabelingStats.csv\")"
   ]
  },
  {
   "cell_type": "code",
   "execution_count": 21,
   "metadata": {},
   "outputs": [
    {
     "data": {
      "text/html": [
       "<div>\n",
       "<style scoped>\n",
       "    .dataframe tbody tr th:only-of-type {\n",
       "        vertical-align: middle;\n",
       "    }\n",
       "\n",
       "    .dataframe tbody tr th {\n",
       "        vertical-align: top;\n",
       "    }\n",
       "\n",
       "    .dataframe thead th {\n",
       "        text-align: right;\n",
       "    }\n",
       "</style>\n",
       "<table border=\"1\" class=\"dataframe\">\n",
       "  <thead>\n",
       "    <tr style=\"text-align: right;\">\n",
       "      <th></th>\n",
       "      <th>data_source</th>\n",
       "      <th>column_name</th>\n",
       "      <th>correct_type</th>\n",
       "      <th>candidate_types</th>\n",
       "    </tr>\n",
       "  </thead>\n",
       "  <tbody>\n",
       "    <tr>\n",
       "      <th>0</th>\n",
       "      <td>s01.csv</td>\n",
       "      <td>Birth_URI</td>\n",
       "      <td>E67_Birth;classLink</td>\n",
       "      <td>[]</td>\n",
       "    </tr>\n",
       "    <tr>\n",
       "      <th>1</th>\n",
       "      <td>s01.csv</td>\n",
       "      <td>Death_URI</td>\n",
       "      <td>E69_Death;classLink</td>\n",
       "      <td>[]</td>\n",
       "    </tr>\n",
       "    <tr>\n",
       "      <th>2</th>\n",
       "      <td>s01.csv</td>\n",
       "      <td>Object_URI</td>\n",
       "      <td>E22_Man-Made_Object;classLink</td>\n",
       "      <td>[]</td>\n",
       "    </tr>\n",
       "    <tr>\n",
       "      <th>3</th>\n",
       "      <td>s01.csv</td>\n",
       "      <td>production_id</td>\n",
       "      <td>E12_Production;label</td>\n",
       "      <td>[E12_Production;label;1.0\\t]</td>\n",
       "    </tr>\n",
       "    <tr>\n",
       "      <th>4</th>\n",
       "      <td>s01.csv</td>\n",
       "      <td>Dimensions</td>\n",
       "      <td>E54_Dimension;P3_has_note</td>\n",
       "      <td>[E54_Dimension;P3_has_note;0.8170083703369302\\...</td>\n",
       "    </tr>\n",
       "    <tr>\n",
       "      <th>...</th>\n",
       "      <td>...</td>\n",
       "      <td>...</td>\n",
       "      <td>...</td>\n",
       "      <td>...</td>\n",
       "    </tr>\n",
       "    <tr>\n",
       "      <th>369</th>\n",
       "      <td>s29.csv</td>\n",
       "      <td>Medium</td>\n",
       "      <td>E55_Type;label</td>\n",
       "      <td>[E55_Type;label;0.45173166465612685\\tE57_Mater...</td>\n",
       "    </tr>\n",
       "    <tr>\n",
       "      <th>370</th>\n",
       "      <td>s29.csv</td>\n",
       "      <td>Object Name</td>\n",
       "      <td>E55_Type;label</td>\n",
       "      <td>[E55_Type;label;0.5680582416069184\\tE12_Produc...</td>\n",
       "    </tr>\n",
       "    <tr>\n",
       "      <th>371</th>\n",
       "      <td>s29.csv</td>\n",
       "      <td>Title</td>\n",
       "      <td>E35_Title;label</td>\n",
       "      <td>[E35_Title;label;0.4966123004859455\\tE22_Man-M...</td>\n",
       "    </tr>\n",
       "    <tr>\n",
       "      <th>372</th>\n",
       "      <td>s29.csv</td>\n",
       "      <td>Actor_URI</td>\n",
       "      <td>E21_Person;classLink</td>\n",
       "      <td>[]</td>\n",
       "    </tr>\n",
       "    <tr>\n",
       "      <th>373</th>\n",
       "      <td>s29.csv</td>\n",
       "      <td>Dimensions</td>\n",
       "      <td>E54_Dimension;P3_has_note</td>\n",
       "      <td>[E54_Dimension;P3_has_note;0.7977663364372357\\...</td>\n",
       "    </tr>\n",
       "  </tbody>\n",
       "</table>\n",
       "<p>374 rows × 4 columns</p>\n",
       "</div>"
      ],
      "text/plain": [
       "    data_source    column_name                   correct_type  \\\n",
       "0       s01.csv      Birth_URI            E67_Birth;classLink   \n",
       "1       s01.csv      Death_URI            E69_Death;classLink   \n",
       "2       s01.csv     Object_URI  E22_Man-Made_Object;classLink   \n",
       "3       s01.csv  production_id           E12_Production;label   \n",
       "4       s01.csv     Dimensions      E54_Dimension;P3_has_note   \n",
       "..          ...            ...                            ...   \n",
       "369     s29.csv         Medium                 E55_Type;label   \n",
       "370     s29.csv    Object Name                 E55_Type;label   \n",
       "371     s29.csv          Title                E35_Title;label   \n",
       "372     s29.csv      Actor_URI           E21_Person;classLink   \n",
       "373     s29.csv     Dimensions      E54_Dimension;P3_has_note   \n",
       "\n",
       "                                       candidate_types  \n",
       "0                                                   []  \n",
       "1                                                   []  \n",
       "2                                                   []  \n",
       "3                         [E12_Production;label;1.0\\t]  \n",
       "4    [E54_Dimension;P3_has_note;0.8170083703369302\\...  \n",
       "..                                                 ...  \n",
       "369  [E55_Type;label;0.45173166465612685\\tE57_Mater...  \n",
       "370  [E55_Type;label;0.5680582416069184\\tE12_Produc...  \n",
       "371  [E35_Title;label;0.4966123004859455\\tE22_Man-M...  \n",
       "372                                                 []  \n",
       "373  [E54_Dimension;P3_has_note;0.7977663364372357\\...  \n",
       "\n",
       "[374 rows x 4 columns]"
      ]
     },
     "execution_count": 21,
     "metadata": {},
     "output_type": "execute_result"
    }
   ],
   "source": [
    "df"
   ]
  },
  {
   "cell_type": "code",
   "execution_count": 22,
   "metadata": {},
   "outputs": [],
   "source": [
    "df = df[df.candidate_types != \"[]\"]"
   ]
  },
  {
   "cell_type": "code",
   "execution_count": 23,
   "metadata": {},
   "outputs": [
    {
     "data": {
      "text/html": [
       "<div>\n",
       "<style scoped>\n",
       "    .dataframe tbody tr th:only-of-type {\n",
       "        vertical-align: middle;\n",
       "    }\n",
       "\n",
       "    .dataframe tbody tr th {\n",
       "        vertical-align: top;\n",
       "    }\n",
       "\n",
       "    .dataframe thead th {\n",
       "        text-align: right;\n",
       "    }\n",
       "</style>\n",
       "<table border=\"1\" class=\"dataframe\">\n",
       "  <thead>\n",
       "    <tr style=\"text-align: right;\">\n",
       "      <th></th>\n",
       "      <th>data_source</th>\n",
       "      <th>column_name</th>\n",
       "      <th>correct_type</th>\n",
       "      <th>candidate_types</th>\n",
       "    </tr>\n",
       "  </thead>\n",
       "  <tbody>\n",
       "    <tr>\n",
       "      <th>3</th>\n",
       "      <td>s01.csv</td>\n",
       "      <td>production_id</td>\n",
       "      <td>E12_Production;label</td>\n",
       "      <td>[E12_Production;label;1.0\\t]</td>\n",
       "    </tr>\n",
       "    <tr>\n",
       "      <th>4</th>\n",
       "      <td>s01.csv</td>\n",
       "      <td>Dimensions</td>\n",
       "      <td>E54_Dimension;P3_has_note</td>\n",
       "      <td>[E54_Dimension;P3_has_note;0.8170083703369302\\...</td>\n",
       "    </tr>\n",
       "    <tr>\n",
       "      <th>5</th>\n",
       "      <td>s01.csv</td>\n",
       "      <td>Medium</td>\n",
       "      <td>E55_Type;label</td>\n",
       "      <td>[E57_Material;label;0.4238675023076406\\tE55_Ty...</td>\n",
       "    </tr>\n",
       "    <tr>\n",
       "      <th>6</th>\n",
       "      <td>s01.csv</td>\n",
       "      <td>Dated</td>\n",
       "      <td>E52_Time-Span;P82_at_some_time_within</td>\n",
       "      <td>[E52_Time-Span;P82_at_some_time_within;1.0\\t]</td>\n",
       "    </tr>\n",
       "    <tr>\n",
       "      <th>7</th>\n",
       "      <td>s01.csv</td>\n",
       "      <td>Title</td>\n",
       "      <td>E35_Title;label</td>\n",
       "      <td>[E35_Title;label;0.5012069678823935\\tE22_Man-M...</td>\n",
       "    </tr>\n",
       "    <tr>\n",
       "      <th>...</th>\n",
       "      <td>...</td>\n",
       "      <td>...</td>\n",
       "      <td>...</td>\n",
       "      <td>...</td>\n",
       "    </tr>\n",
       "    <tr>\n",
       "      <th>368</th>\n",
       "      <td>s29.csv</td>\n",
       "      <td>Dated</td>\n",
       "      <td>E52_Time-Span;P82_at_some_time_within</td>\n",
       "      <td>[E52_Time-Span;P82_at_some_time_within;1.0\\t]</td>\n",
       "    </tr>\n",
       "    <tr>\n",
       "      <th>369</th>\n",
       "      <td>s29.csv</td>\n",
       "      <td>Medium</td>\n",
       "      <td>E55_Type;label</td>\n",
       "      <td>[E55_Type;label;0.45173166465612685\\tE57_Mater...</td>\n",
       "    </tr>\n",
       "    <tr>\n",
       "      <th>370</th>\n",
       "      <td>s29.csv</td>\n",
       "      <td>Object Name</td>\n",
       "      <td>E55_Type;label</td>\n",
       "      <td>[E55_Type;label;0.5680582416069184\\tE12_Produc...</td>\n",
       "    </tr>\n",
       "    <tr>\n",
       "      <th>371</th>\n",
       "      <td>s29.csv</td>\n",
       "      <td>Title</td>\n",
       "      <td>E35_Title;label</td>\n",
       "      <td>[E35_Title;label;0.4966123004859455\\tE22_Man-M...</td>\n",
       "    </tr>\n",
       "    <tr>\n",
       "      <th>373</th>\n",
       "      <td>s29.csv</td>\n",
       "      <td>Dimensions</td>\n",
       "      <td>E54_Dimension;P3_has_note</td>\n",
       "      <td>[E54_Dimension;P3_has_note;0.7977663364372357\\...</td>\n",
       "    </tr>\n",
       "  </tbody>\n",
       "</table>\n",
       "<p>288 rows × 4 columns</p>\n",
       "</div>"
      ],
      "text/plain": [
       "    data_source    column_name                           correct_type  \\\n",
       "3       s01.csv  production_id                   E12_Production;label   \n",
       "4       s01.csv     Dimensions              E54_Dimension;P3_has_note   \n",
       "5       s01.csv         Medium                         E55_Type;label   \n",
       "6       s01.csv          Dated  E52_Time-Span;P82_at_some_time_within   \n",
       "7       s01.csv          Title                        E35_Title;label   \n",
       "..          ...            ...                                    ...   \n",
       "368     s29.csv          Dated  E52_Time-Span;P82_at_some_time_within   \n",
       "369     s29.csv         Medium                         E55_Type;label   \n",
       "370     s29.csv    Object Name                         E55_Type;label   \n",
       "371     s29.csv          Title                        E35_Title;label   \n",
       "373     s29.csv     Dimensions              E54_Dimension;P3_has_note   \n",
       "\n",
       "                                       candidate_types  \n",
       "3                         [E12_Production;label;1.0\\t]  \n",
       "4    [E54_Dimension;P3_has_note;0.8170083703369302\\...  \n",
       "5    [E57_Material;label;0.4238675023076406\\tE55_Ty...  \n",
       "6        [E52_Time-Span;P82_at_some_time_within;1.0\\t]  \n",
       "7    [E35_Title;label;0.5012069678823935\\tE22_Man-M...  \n",
       "..                                                 ...  \n",
       "368      [E52_Time-Span;P82_at_some_time_within;1.0\\t]  \n",
       "369  [E55_Type;label;0.45173166465612685\\tE57_Mater...  \n",
       "370  [E55_Type;label;0.5680582416069184\\tE12_Produc...  \n",
       "371  [E35_Title;label;0.4966123004859455\\tE22_Man-M...  \n",
       "373  [E54_Dimension;P3_has_note;0.7977663364372357\\...  \n",
       "\n",
       "[288 rows x 4 columns]"
      ]
     },
     "execution_count": 23,
     "metadata": {},
     "output_type": "execute_result"
    }
   ],
   "source": [
    "df"
   ]
  },
  {
   "cell_type": "code",
   "execution_count": 24,
   "metadata": {},
   "outputs": [],
   "source": [
    "class SemanticType:\n",
    "    def __init__(self, typeStr:str):\n",
    "        ls = typeStr.split(\";\")\n",
    "        self.domain = ls[0]\n",
    "        self.type = ls[1]\n",
    "        if len(ls) == 2:\n",
    "            self.score = 1.0\n",
    "        else:\n",
    "            self.score = float(ls[2])\n",
    "\n",
    "    def __repr__(self):\n",
    "        return \",\".join([self.domain, self.type, str(self.score)])\n",
    "        \n",
    "\n",
    "class Column:\n",
    "    def __init__(self, data_source:str, column_name:str, correct_type:str, candidate_types:str):\n",
    "        self.data_source = data_source\n",
    "        self.column_name = column_name\n",
    "        self.correct_type = SemanticType(correct_type)\n",
    "        self.candidate_types = self._get_candidate_types(candidate_types)\n",
    "\n",
    "\n",
    "    def _get_candidate_types(self, candidate_types:str):\n",
    "        typeStr =  candidate_types.replace(\"[\", \"\").replace(\"]\", \"\").rstrip(\"\\t\")\n",
    "        ls = typeStr.split(\"\\t\")\n",
    "        return [SemanticType(ele) for ele in ls]\n",
    "        \n"
   ]
  },
  {
   "cell_type": "code",
   "execution_count": 25,
   "metadata": {},
   "outputs": [],
   "source": [
    "columns = [Column(col[\"data_source\"], col[\"column_name\"], col[\"correct_type\"], col[\"candidate_types\"]) for _,col in df.iterrows()]"
   ]
  },
  {
   "cell_type": "code",
   "execution_count": null,
   "metadata": {},
   "outputs": [],
   "source": []
  },
  {
   "cell_type": "code",
   "execution_count": 26,
   "metadata": {},
   "outputs": [
    {
     "data": {
      "text/plain": [
       "288"
      ]
     },
     "execution_count": 26,
     "metadata": {},
     "output_type": "execute_result"
    }
   ],
   "source": [
    "len(columns)"
   ]
  },
  {
   "cell_type": "code",
   "execution_count": 27,
   "metadata": {},
   "outputs": [
    {
     "data": {
      "text/plain": [
       "209"
      ]
     },
     "execution_count": 27,
     "metadata": {},
     "output_type": "execute_result"
    }
   ],
   "source": [
    "len([col for col in columns if len(col.candidate_types) > 1])"
   ]
  },
  {
   "cell_type": "code",
   "execution_count": 28,
   "metadata": {},
   "outputs": [
    {
     "data": {
      "text/plain": [
       "229"
      ]
     },
     "execution_count": 28,
     "metadata": {},
     "output_type": "execute_result"
    }
   ],
   "source": [
    "len([col for col in columns if col.candidate_types[0].score > 0.5])"
   ]
  },
  {
   "cell_type": "code",
   "execution_count": 29,
   "metadata": {},
   "outputs": [
    {
     "data": {
      "text/plain": [
       "30"
      ]
     },
     "execution_count": 29,
     "metadata": {},
     "output_type": "execute_result"
    }
   ],
   "source": [
    "def f(cols):\n",
    "    res = []\n",
    "    for col in cols:\n",
    "        candidate_types = col.candidate_types\n",
    "        for i, cType in enumerate(candidate_types):\n",
    "            if cType.domain == col.correct_type.domain and cType.type == col.correct_type.type and i > 0:\n",
    "                res.append(col)    \n",
    "    return res\n",
    "\n",
    "\n",
    "len(f(columns))\n"
   ]
  },
  {
   "cell_type": "code",
   "execution_count": 36,
   "metadata": {},
   "outputs": [
    {
     "name": "stdout",
     "output_type": "stream",
     "text": [
      "s08.csv AUTHOR\n",
      "s08.csv TITLE\n",
      "s08.csv IMAGE__IMAGESRC\n",
      "s17.csv link\n",
      "s20.csv Artwork_Details\n",
      "s28.csv Collector\n",
      "s28.csv Nationality\n"
     ]
    }
   ],
   "source": [
    "for col in f([col for col in columns if len(col.candidate_types) > 1 and col.candidate_types[0].score / col.candidate_types[1].score > 2]):\n",
    "    print(col.data_source, col.column_name)"
   ]
  },
  {
   "cell_type": "code",
   "execution_count": null,
   "metadata": {},
   "outputs": [],
   "source": []
  },
  {
   "cell_type": "code",
   "execution_count": 31,
   "metadata": {},
   "outputs": [
    {
     "data": {
      "text/plain": [
       "3"
      ]
     },
     "execution_count": 31,
     "metadata": {},
     "output_type": "execute_result"
    }
   ],
   "source": [
    "len(f([col for col in columns if col.candidate_types[0].score > 0.6]))"
   ]
  },
  {
   "cell_type": "code",
   "execution_count": 15,
   "metadata": {},
   "outputs": [
    {
     "name": "stdout",
     "output_type": "stream",
     "text": [
      "s08.csv AUTHOR\n",
      "s08.csv IMAGE__IMAGESRC\n",
      "s28.csv Nationality\n"
     ]
    }
   ],
   "source": [
    "for col in f([col for col in columns if col.candidate_types[0].score > 0.6]):\n",
    "    print(col.data_source, col.column_name)"
   ]
  },
  {
   "cell_type": "code",
   "execution_count": 16,
   "metadata": {},
   "outputs": [
    {
     "name": "stdout",
     "output_type": "stream",
     "text": [
      "258 19 7 4\n"
     ]
    }
   ],
   "source": [
    "rs = []\n",
    "\n",
    "for col in columns:\n",
    "    candidate_types = col.candidate_types\n",
    "    for i, cType in enumerate(candidate_types):\n",
    "        if cType.domain == col.correct_type.domain and cType.type == col.correct_type.type:\n",
    "            rs.append(i)\n",
    "            # print(i)\n",
    "\n",
    "\n",
    "print(rs.count(0), rs.count(1), rs.count(2), rs.count(3))"
   ]
  },
  {
   "cell_type": "code",
   "execution_count": 93,
   "metadata": {},
   "outputs": [
    {
     "data": {
      "text/plain": [
       "19"
      ]
     },
     "execution_count": 93,
     "metadata": {},
     "output_type": "execute_result"
    }
   ],
   "source": []
  },
  {
   "cell_type": "code",
   "execution_count": 17,
   "metadata": {},
   "outputs": [
    {
     "name": "stdout",
     "output_type": "stream",
     "text": [
      "60\n",
      "0\n"
     ]
    }
   ],
   "source": [
    "print(len([col for col in columns if len(col.candidate_types) > 1 and \n",
    "    col.candidate_types[0].score / col.candidate_types[1].score > 5]))\n",
    "\n",
    "print(len(f([col for col in columns if len(col.candidate_types) > 1 and \n",
    "    col.candidate_types[0].score / col.candidate_types[1].score > 5])))\n"
   ]
  },
  {
   "cell_type": "code",
   "execution_count": 18,
   "metadata": {},
   "outputs": [
    {
     "name": "stdout",
     "output_type": "stream",
     "text": [
      "30\n"
     ]
    }
   ],
   "source": [
    "print(len(f([col for col in columns if col.candidate_types[0].score > 0.2])))"
   ]
  }
 ],
 "metadata": {
  "interpreter": {
   "hash": "ad657841039cdc76babe57ca6ba622848c3a0b158e27b664722c951447a50d50"
  },
  "kernelspec": {
   "display_name": "Python 3.8.9 64-bit",
   "language": "python",
   "name": "python3"
  },
  "language_info": {
   "codemirror_mode": {
    "name": "ipython",
    "version": 3
   },
   "file_extension": ".py",
   "mimetype": "text/x-python",
   "name": "python",
   "nbconvert_exporter": "python",
   "pygments_lexer": "ipython3",
   "version": "3.8.9"
  },
  "orig_nbformat": 4
 },
 "nbformat": 4,
 "nbformat_minor": 2
}
