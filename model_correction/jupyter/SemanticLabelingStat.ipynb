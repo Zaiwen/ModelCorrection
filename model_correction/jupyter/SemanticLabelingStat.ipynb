{
 "cells": [
  {
   "cell_type": "code",
   "execution_count": 444,
   "metadata": {},
   "outputs": [],
   "source": [
    "import pandas as pd\n"
   ]
  },
  {
   "cell_type": "code",
   "execution_count": 445,
   "metadata": {},
   "outputs": [],
   "source": [
    "df = pd.read_csv(rf\"C:\\D_Drive\\ASM\\experiment\\tmp\\semanticType__weapon-lod.csv\")"
   ]
  },
  {
   "cell_type": "code",
   "execution_count": 446,
   "metadata": {},
   "outputs": [
    {
     "data": {
      "text/html": [
       "<div>\n",
       "<style scoped>\n",
       "    .dataframe tbody tr th:only-of-type {\n",
       "        vertical-align: middle;\n",
       "    }\n",
       "\n",
       "    .dataframe tbody tr th {\n",
       "        vertical-align: top;\n",
       "    }\n",
       "\n",
       "    .dataframe thead th {\n",
       "        text-align: right;\n",
       "    }\n",
       "</style>\n",
       "<table border=\"1\" class=\"dataframe\">\n",
       "  <thead>\n",
       "    <tr style=\"text-align: right;\">\n",
       "      <th></th>\n",
       "      <th>data_source</th>\n",
       "      <th>column_name</th>\n",
       "      <th>correct_type</th>\n",
       "      <th>candidate_types</th>\n",
       "    </tr>\n",
       "  </thead>\n",
       "  <tbody>\n",
       "    <tr>\n",
       "      <th>0</th>\n",
       "      <td>alaskaslist.csv</td>\n",
       "      <td>Price1219</td>\n",
       "      <td>Offer;price</td>\n",
       "      <td>[Offer;price;0.9999426868422568\\tCreativeWork;...</td>\n",
       "    </tr>\n",
       "    <tr>\n",
       "      <th>1</th>\n",
       "      <td>alaskaslist.csv</td>\n",
       "      <td>Alaska0011</td>\n",
       "      <td>Offer;name</td>\n",
       "      <td>[Offer;name;0.47152383671818865\\tOffer;descrip...</td>\n",
       "    </tr>\n",
       "    <tr>\n",
       "      <th>2</th>\n",
       "      <td>alaskaslist.csv</td>\n",
       "      <td>Ad1096</td>\n",
       "      <td>Offer;identifier</td>\n",
       "      <td>[]</td>\n",
       "    </tr>\n",
       "    <tr>\n",
       "      <th>3</th>\n",
       "      <td>alaskaslist.csv</td>\n",
       "      <td>Updated1527</td>\n",
       "      <td>Offer;datePosted</td>\n",
       "      <td>[Offer;datePosted;0.8902875080455296\\tOffer;de...</td>\n",
       "    </tr>\n",
       "    <tr>\n",
       "      <th>4</th>\n",
       "      <td>alaskaslist.csv</td>\n",
       "      <td>Copyright1795</td>\n",
       "      <td>CreativeWork;copyrightYear</td>\n",
       "      <td>[Offer;price;0.5\\tCreativeWork;copyrightYear;0...</td>\n",
       "    </tr>\n",
       "    <tr>\n",
       "      <th>...</th>\n",
       "      <td>...</td>\n",
       "      <td>...</td>\n",
       "      <td>...</td>\n",
       "      <td>...</td>\n",
       "    </tr>\n",
       "    <tr>\n",
       "      <th>144</th>\n",
       "      <td>theoutdoorstrader.csv</td>\n",
       "      <td>Price0855</td>\n",
       "      <td>Offer;price</td>\n",
       "      <td>[Offer;price;0.5031652685269817\\tOffer;name;0....</td>\n",
       "    </tr>\n",
       "    <tr>\n",
       "      <th>145</th>\n",
       "      <td>theoutdoorstrader.csv</td>\n",
       "      <td>Accessories0378</td>\n",
       "      <td>Firearm;category</td>\n",
       "      <td>[Firearm;category;0.6010879908020876\\tOffer;na...</td>\n",
       "    </tr>\n",
       "    <tr>\n",
       "      <th>146</th>\n",
       "      <td>theoutdoorstrader.csv</td>\n",
       "      <td>file_name</td>\n",
       "      <td>CreativeWork;name</td>\n",
       "      <td>[CreativeWork;name;1.0\\t]</td>\n",
       "    </tr>\n",
       "    <tr>\n",
       "      <th>147</th>\n",
       "      <td>theoutdoorstrader.csv</td>\n",
       "      <td>trade1645</td>\n",
       "      <td>CreativeWork;copyrightYear</td>\n",
       "      <td>[CreativeWork;copyrightYear;0.9861111115716481...</td>\n",
       "    </tr>\n",
       "    <tr>\n",
       "      <th>148</th>\n",
       "      <td>theoutdoorstrader.csv</td>\n",
       "      <td>Description0868</td>\n",
       "      <td>Offer;description</td>\n",
       "      <td>[Offer;description;0.7126008167586169\\tOffer;n...</td>\n",
       "    </tr>\n",
       "  </tbody>\n",
       "</table>\n",
       "<p>149 rows × 4 columns</p>\n",
       "</div>"
      ],
      "text/plain": [
       "               data_source      column_name                correct_type  \\\n",
       "0          alaskaslist.csv        Price1219                 Offer;price   \n",
       "1          alaskaslist.csv       Alaska0011                  Offer;name   \n",
       "2          alaskaslist.csv           Ad1096            Offer;identifier   \n",
       "3          alaskaslist.csv      Updated1527            Offer;datePosted   \n",
       "4          alaskaslist.csv    Copyright1795  CreativeWork;copyrightYear   \n",
       "..                     ...              ...                         ...   \n",
       "144  theoutdoorstrader.csv        Price0855                 Offer;price   \n",
       "145  theoutdoorstrader.csv  Accessories0378            Firearm;category   \n",
       "146  theoutdoorstrader.csv        file_name           CreativeWork;name   \n",
       "147  theoutdoorstrader.csv        trade1645  CreativeWork;copyrightYear   \n",
       "148  theoutdoorstrader.csv  Description0868           Offer;description   \n",
       "\n",
       "                                       candidate_types  \n",
       "0    [Offer;price;0.9999426868422568\\tCreativeWork;...  \n",
       "1    [Offer;name;0.47152383671818865\\tOffer;descrip...  \n",
       "2                                                   []  \n",
       "3    [Offer;datePosted;0.8902875080455296\\tOffer;de...  \n",
       "4    [Offer;price;0.5\\tCreativeWork;copyrightYear;0...  \n",
       "..                                                 ...  \n",
       "144  [Offer;price;0.5031652685269817\\tOffer;name;0....  \n",
       "145  [Firearm;category;0.6010879908020876\\tOffer;na...  \n",
       "146                          [CreativeWork;name;1.0\\t]  \n",
       "147  [CreativeWork;copyrightYear;0.9861111115716481...  \n",
       "148  [Offer;description;0.7126008167586169\\tOffer;n...  \n",
       "\n",
       "[149 rows x 4 columns]"
      ]
     },
     "execution_count": 446,
     "metadata": {},
     "output_type": "execute_result"
    }
   ],
   "source": [
    "df"
   ]
  },
  {
   "cell_type": "code",
   "execution_count": 447,
   "metadata": {},
   "outputs": [],
   "source": [
    "df = df[df.candidate_types != \"[]\"]"
   ]
  },
  {
   "cell_type": "code",
   "execution_count": 448,
   "metadata": {},
   "outputs": [
    {
     "data": {
      "text/html": [
       "<div>\n",
       "<style scoped>\n",
       "    .dataframe tbody tr th:only-of-type {\n",
       "        vertical-align: middle;\n",
       "    }\n",
       "\n",
       "    .dataframe tbody tr th {\n",
       "        vertical-align: top;\n",
       "    }\n",
       "\n",
       "    .dataframe thead th {\n",
       "        text-align: right;\n",
       "    }\n",
       "</style>\n",
       "<table border=\"1\" class=\"dataframe\">\n",
       "  <thead>\n",
       "    <tr style=\"text-align: right;\">\n",
       "      <th></th>\n",
       "      <th>data_source</th>\n",
       "      <th>column_name</th>\n",
       "      <th>correct_type</th>\n",
       "      <th>candidate_types</th>\n",
       "    </tr>\n",
       "  </thead>\n",
       "  <tbody>\n",
       "    <tr>\n",
       "      <th>0</th>\n",
       "      <td>alaskaslist.csv</td>\n",
       "      <td>Price1219</td>\n",
       "      <td>Offer;price</td>\n",
       "      <td>[Offer;price;0.9999426868422568\\tCreativeWork;...</td>\n",
       "    </tr>\n",
       "    <tr>\n",
       "      <th>1</th>\n",
       "      <td>alaskaslist.csv</td>\n",
       "      <td>Alaska0011</td>\n",
       "      <td>Offer;name</td>\n",
       "      <td>[Offer;name;0.47152383671818865\\tOffer;descrip...</td>\n",
       "    </tr>\n",
       "    <tr>\n",
       "      <th>3</th>\n",
       "      <td>alaskaslist.csv</td>\n",
       "      <td>Updated1527</td>\n",
       "      <td>Offer;datePosted</td>\n",
       "      <td>[Offer;datePosted;0.8902875080455296\\tOffer;de...</td>\n",
       "    </tr>\n",
       "    <tr>\n",
       "      <th>4</th>\n",
       "      <td>alaskaslist.csv</td>\n",
       "      <td>Copyright1795</td>\n",
       "      <td>CreativeWork;copyrightYear</td>\n",
       "      <td>[Offer;price;0.5\\tCreativeWork;copyrightYear;0...</td>\n",
       "    </tr>\n",
       "    <tr>\n",
       "      <th>5</th>\n",
       "      <td>alaskaslist.csv</td>\n",
       "      <td>file_name</td>\n",
       "      <td>CreativeWork;name</td>\n",
       "      <td>[CreativeWork;name;1.0\\t]</td>\n",
       "    </tr>\n",
       "    <tr>\n",
       "      <th>...</th>\n",
       "      <td>...</td>\n",
       "      <td>...</td>\n",
       "      <td>...</td>\n",
       "      <td>...</td>\n",
       "    </tr>\n",
       "    <tr>\n",
       "      <th>144</th>\n",
       "      <td>theoutdoorstrader.csv</td>\n",
       "      <td>Price0855</td>\n",
       "      <td>Offer;price</td>\n",
       "      <td>[Offer;price;0.5031652685269817\\tOffer;name;0....</td>\n",
       "    </tr>\n",
       "    <tr>\n",
       "      <th>145</th>\n",
       "      <td>theoutdoorstrader.csv</td>\n",
       "      <td>Accessories0378</td>\n",
       "      <td>Firearm;category</td>\n",
       "      <td>[Firearm;category;0.6010879908020876\\tOffer;na...</td>\n",
       "    </tr>\n",
       "    <tr>\n",
       "      <th>146</th>\n",
       "      <td>theoutdoorstrader.csv</td>\n",
       "      <td>file_name</td>\n",
       "      <td>CreativeWork;name</td>\n",
       "      <td>[CreativeWork;name;1.0\\t]</td>\n",
       "    </tr>\n",
       "    <tr>\n",
       "      <th>147</th>\n",
       "      <td>theoutdoorstrader.csv</td>\n",
       "      <td>trade1645</td>\n",
       "      <td>CreativeWork;copyrightYear</td>\n",
       "      <td>[CreativeWork;copyrightYear;0.9861111115716481...</td>\n",
       "    </tr>\n",
       "    <tr>\n",
       "      <th>148</th>\n",
       "      <td>theoutdoorstrader.csv</td>\n",
       "      <td>Description0868</td>\n",
       "      <td>Offer;description</td>\n",
       "      <td>[Offer;description;0.7126008167586169\\tOffer;n...</td>\n",
       "    </tr>\n",
       "  </tbody>\n",
       "</table>\n",
       "<p>139 rows × 4 columns</p>\n",
       "</div>"
      ],
      "text/plain": [
       "               data_source      column_name                correct_type  \\\n",
       "0          alaskaslist.csv        Price1219                 Offer;price   \n",
       "1          alaskaslist.csv       Alaska0011                  Offer;name   \n",
       "3          alaskaslist.csv      Updated1527            Offer;datePosted   \n",
       "4          alaskaslist.csv    Copyright1795  CreativeWork;copyrightYear   \n",
       "5          alaskaslist.csv        file_name           CreativeWork;name   \n",
       "..                     ...              ...                         ...   \n",
       "144  theoutdoorstrader.csv        Price0855                 Offer;price   \n",
       "145  theoutdoorstrader.csv  Accessories0378            Firearm;category   \n",
       "146  theoutdoorstrader.csv        file_name           CreativeWork;name   \n",
       "147  theoutdoorstrader.csv        trade1645  CreativeWork;copyrightYear   \n",
       "148  theoutdoorstrader.csv  Description0868           Offer;description   \n",
       "\n",
       "                                       candidate_types  \n",
       "0    [Offer;price;0.9999426868422568\\tCreativeWork;...  \n",
       "1    [Offer;name;0.47152383671818865\\tOffer;descrip...  \n",
       "3    [Offer;datePosted;0.8902875080455296\\tOffer;de...  \n",
       "4    [Offer;price;0.5\\tCreativeWork;copyrightYear;0...  \n",
       "5                            [CreativeWork;name;1.0\\t]  \n",
       "..                                                 ...  \n",
       "144  [Offer;price;0.5031652685269817\\tOffer;name;0....  \n",
       "145  [Firearm;category;0.6010879908020876\\tOffer;na...  \n",
       "146                          [CreativeWork;name;1.0\\t]  \n",
       "147  [CreativeWork;copyrightYear;0.9861111115716481...  \n",
       "148  [Offer;description;0.7126008167586169\\tOffer;n...  \n",
       "\n",
       "[139 rows x 4 columns]"
      ]
     },
     "execution_count": 448,
     "metadata": {},
     "output_type": "execute_result"
    }
   ],
   "source": [
    "df"
   ]
  },
  {
   "cell_type": "code",
   "execution_count": 449,
   "metadata": {},
   "outputs": [],
   "source": [
    "class SemanticType:\n",
    "    def __init__(self, typeStr:str):\n",
    "        ls = typeStr.split(\";\")\n",
    "        self.domain = ls[0]\n",
    "        self.type = ls[1]\n",
    "        if len(ls) == 2:\n",
    "            self.score = 1.0\n",
    "        else:\n",
    "            self.score = float(ls[2])\n",
    "\n",
    "    def __repr__(self):\n",
    "        return \",\".join([self.domain, self.type, str(self.score)])\n",
    "        \n",
    "\n",
    "class Column:\n",
    "    def __init__(self, data_source:str, column_name:str, correct_type:str, candidate_types:str):\n",
    "        self.data_source = data_source\n",
    "        self.column_name = column_name\n",
    "        self.correct_type = SemanticType(correct_type)\n",
    "        self.candidate_types = self._get_candidate_types(candidate_types)\n",
    "        if len(self.candidate_types) > 1:\n",
    "            self.eta = self._get_eta()\n",
    "\n",
    "\n",
    "    def _get_candidate_types(self, candidate_types:str):\n",
    "        typeStr =  candidate_types.replace(\"[\", \"\").replace(\"]\", \"\").rstrip(\"\\t\")\n",
    "        ls = typeStr.split(\"\\t\")\n",
    "        return [SemanticType(ele) for ele in ls]\n",
    "\n",
    "    def _get_eta(self):\n",
    "\n",
    "        try:\n",
    "            return self.candidate_types[0].score / self.candidate_types[1].score\n",
    "        except ZeroDivisionError:\n",
    "            return float(\"inf\")\n",
    "\n",
    "    \n",
    "\n"
   ]
  },
  {
   "cell_type": "code",
   "execution_count": 450,
   "metadata": {},
   "outputs": [],
   "source": [
    "columns = [Column(col[\"data_source\"], col[\"column_name\"], col[\"correct_type\"], col[\"candidate_types\"]) for _, col in df.iterrows()]"
   ]
  },
  {
   "cell_type": "code",
   "execution_count": 451,
   "metadata": {},
   "outputs": [
    {
     "data": {
      "text/plain": [
       "0.8788968824940047"
      ]
     },
     "execution_count": 451,
     "metadata": {},
     "output_type": "execute_result"
    }
   ],
   "source": [
    "mrr = 0.0\n",
    "for col in columns:\n",
    "    reciprocal_rank = 0\n",
    "    for i, cType in enumerate(col.candidate_types):\n",
    "        if cType.domain == col.correct_type.domain and cType.type == col.correct_type.type:\n",
    "            reciprocal_rank = 1 / (i+1)\n",
    "    mrr += reciprocal_rank\n",
    "\n",
    "mrr /= len(columns)\n",
    "mrr"
   ]
  },
  {
   "cell_type": "code",
   "execution_count": 452,
   "metadata": {},
   "outputs": [
    {
     "data": {
      "text/plain": [
       "139"
      ]
     },
     "execution_count": 452,
     "metadata": {},
     "output_type": "execute_result"
    }
   ],
   "source": [
    "len(columns)"
   ]
  },
  {
   "cell_type": "code",
   "execution_count": 453,
   "metadata": {},
   "outputs": [
    {
     "data": {
      "text/plain": [
       "114"
      ]
     },
     "execution_count": 453,
     "metadata": {},
     "output_type": "execute_result"
    }
   ],
   "source": [
    "len([col for col in columns if col.candidate_types[0].score > 0.5])"
   ]
  },
  {
   "cell_type": "code",
   "execution_count": 454,
   "metadata": {},
   "outputs": [
    {
     "data": {
      "text/plain": [
       "26"
      ]
     },
     "execution_count": 454,
     "metadata": {},
     "output_type": "execute_result"
    }
   ],
   "source": [
    "def f(cols):\n",
    "    res = []\n",
    "    for col in cols:\n",
    "        candidate_types = col.candidate_types\n",
    "        for i, cType in enumerate(candidate_types):\n",
    "            if cType.domain == col.correct_type.domain and cType.type == col.correct_type.type and i > 0:\n",
    "                res.append(col)    \n",
    "    return res\n",
    "\n",
    "\n",
    "len(f(columns))\n"
   ]
  },
  {
   "cell_type": "code",
   "execution_count": 455,
   "metadata": {},
   "outputs": [
    {
     "name": "stdout",
     "output_type": "stream",
     "text": [
      "20 9 7 7 6 6 6 6 6 6 "
     ]
    }
   ],
   "source": [
    "for i in range(1, 11):\n",
    "    print(len(f([col for col in columns if (len(col.candidate_types) > 1) and col.eta > i])), end=\" \")"
   ]
  },
  {
   "cell_type": "code",
   "execution_count": 456,
   "metadata": {},
   "outputs": [
    {
     "data": {
      "text/plain": [
       "8"
      ]
     },
     "execution_count": 456,
     "metadata": {},
     "output_type": "execute_result"
    }
   ],
   "source": [
    "len(f([col for col in columns if col.candidate_types[0].score > 0.6]))"
   ]
  },
  {
   "cell_type": "code",
   "execution_count": 457,
   "metadata": {},
   "outputs": [
    {
     "name": "stdout",
     "output_type": "stream",
     "text": [
      "110 21 5 0 3\n"
     ]
    }
   ],
   "source": [
    "rs = []\n",
    "\n",
    "for col in columns:\n",
    "    candidate_types = col.candidate_types\n",
    "    for i, cType in enumerate(candidate_types):\n",
    "        if cType.domain == col.correct_type.domain and cType.type == col.correct_type.type:\n",
    "            rs.append(i)\n",
    "            # print(i)\n",
    "\n",
    "\n",
    "print(rs.count(0), rs.count(1), rs.count(2), rs.count(3), len(columns) - len(rs))"
   ]
  },
  {
   "cell_type": "code",
   "execution_count": 458,
   "metadata": {},
   "outputs": [
    {
     "data": {
      "text/plain": [
       "'\\n224 25 9 0 6\\n271 23 8 3 0\\n110 21 5 0 3\\n33 10 4 3 2 1 \\n34 7 2 1 0 0 \\n20 9 7 7 6 6 \\n'"
      ]
     },
     "execution_count": 458,
     "metadata": {},
     "output_type": "execute_result"
    }
   ],
   "source": [
    "'''\n",
    "224 25 9 0 6\n",
    "271 23 8 3 0\n",
    "110 21 5 0 3\n",
    "33 10 4 3 2 1 \n",
    "34 7 2 1 0 0 \n",
    "20 9 7 7 6 6 \n",
    "'''"
   ]
  }
 ],
 "metadata": {
  "kernelspec": {
   "display_name": "Python 3.8.9 64-bit",
   "language": "python",
   "name": "python3"
  },
  "language_info": {
   "codemirror_mode": {
    "name": "ipython",
    "version": 3
   },
   "file_extension": ".py",
   "mimetype": "text/x-python",
   "name": "python",
   "nbconvert_exporter": "python",
   "pygments_lexer": "ipython3",
   "version": "3.8.9"
  },
  "orig_nbformat": 4,
  "vscode": {
   "interpreter": {
    "hash": "9b7d4a1a4b216eb0c3edf4fa3e63655fb9336e6a9721207d2a65bdf1b50d88d8"
   }
  }
 },
 "nbformat": 4,
 "nbformat_minor": 2
}
