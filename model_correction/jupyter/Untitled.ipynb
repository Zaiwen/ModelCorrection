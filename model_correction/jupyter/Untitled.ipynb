{
 "cells": [
  {
   "cell_type": "code",
   "execution_count": 1,
   "metadata": {},
   "outputs": [],
   "source": [
    "import pandas as pd\n",
    "import numpy as np\n",
    "import os"
   ]
  },
  {
   "cell_type": "code",
   "execution_count": 2,
   "metadata": {},
   "outputs": [],
   "source": [
    "os.chdir(r\"D:\\exp_20211101\\data_source\")\n",
    "datas = []\n",
    "s01 = pd.read_csv('s01.csv')\n",
    "s02 = pd.read_csv('s02.csv')\n",
    "s03 = pd.read_csv('s03.csv')\n",
    "s04 = pd.read_csv('s04.csv')\n",
    "s05 = pd.read_csv('s05.csv')\n",
    "s06 = pd.read_csv('s06.csv', encoding='ansi')\n",
    "s07 = pd.read_csv('s07.csv')\n",
    "s08 = pd.read_csv('s08.csv', encoding='ansi')\n",
    "s09 = pd.read_csv('s09.csv')\n",
    "s10 = pd.read_csv('s10.csv')\n",
    "s11 = pd.read_csv('s11.csv')\n",
    "s12 = pd.read_csv('s12.csv', encoding='ansi')\n",
    "s13 = pd.read_csv('s13.csv', encoding='ansi')\n",
    "s14 = pd.read_csv('s14.csv')\n",
    "s15 = pd.read_csv('s15.csv')\n",
    "s16 = pd.read_csv('s16.csv')\n",
    "s17 = pd.read_csv('s17.csv')\n",
    "s18 = pd.read_csv('s18.csv')\n",
    "s19 = pd.read_csv('s19.csv')\n",
    "s20 = pd.read_csv('s20.csv')\n",
    "s21 = pd.read_csv('s21.csv', encoding='ansi')\n",
    "s22 = pd.read_csv('s22.csv')\n",
    "s23 = pd.read_csv('s23.csv', encoding='ansi')\n",
    "s24 = pd.read_csv('s24.csv')\n",
    "s25 = pd.read_csv('s25.csv')\n",
    "s26 = pd.read_csv('s26.csv')\n",
    "s28 = pd.read_csv('s28.csv')\n",
    "s29 = pd.read_csv('s29.csv')\n",
    "for i in range(1,30):\n",
    "    if i <10:\n",
    "        datas.append(eval(f\"s0{i}\"))\n",
    "    elif i != 27:\n",
    "        datas.append(eval(f\"s{i}\"))"
   ]
  },
  {
   "cell_type": "code",
   "execution_count": 16,
   "metadata": {},
   "outputs": [],
   "source": [
    "arg_df = pd.read_excel(\"../args.xlsx\", header=None)"
   ]
  },
  {
   "cell_type": "code",
   "execution_count": 42,
   "metadata": {
    "scrolled": true
   },
   "outputs": [],
   "source": [
    "artist_attrs = set(arg_df[3])\n",
    "artist_attrs.add(\"AUTHOR\")"
   ]
  },
  {
   "cell_type": "code",
   "execution_count": 59,
   "metadata": {},
   "outputs": [],
   "source": [
    "ds_names = [\"s\"+str(i) for i in range(1,30) if i != 27]\n",
    "for ds_name,df in zip(ds_names,datas):\n",
    "    for attr in artist_attrs:\n",
    "        try:\n",
    "            df[attr].to_csv(f\"../E21_Person/{ds_name}_{attr}_E12.txt\", index=False)\n",
    "            break\n",
    "        except Exception:\n",
    "            pass"
   ]
  },
  {
   "cell_type": "code",
   "execution_count": 4,
   "metadata": {},
   "outputs": [],
   "source": [
    "s06[\"Title\"].to_csv(\"../E21_Person/s06_Title_E22.txt\", index=False)"
   ]
  },
  {
   "cell_type": "code",
   "execution_count": 41,
   "metadata": {},
   "outputs": [
    {
     "data": {
      "text/plain": [
       "['TITLE', 'AUTHOR', 'IMAGE__IMAGESRC', 'DESCRIPTION', 'VIDEO', 'production_id']"
      ]
     },
     "execution_count": 41,
     "metadata": {},
     "output_type": "execute_result"
    }
   ],
   "source": [
    "list(s08)"
   ]
  },
  {
   "cell_type": "code",
   "execution_count": 47,
   "metadata": {},
   "outputs": [],
   "source": [
    "birth_attrs = set(arg_df[arg_df[2] == \"E67_Birth\"][1])"
   ]
  },
  {
   "cell_type": "code",
   "execution_count": 48,
   "metadata": {},
   "outputs": [
    {
     "data": {
      "text/plain": [
       "{'Artist Birth Date',\n",
       " 'ArtistBornDate',\n",
       " 'Begin Date',\n",
       " 'BirthDate',\n",
       " 'Maker Birth Date',\n",
       " 'artist_birth',\n",
       " 'birth',\n",
       " 'birthDate',\n",
       " 'birthYear',\n",
       " 'birth_date',\n",
       " 'birth_year',\n",
       " 'bornDate'}"
      ]
     },
     "execution_count": 48,
     "metadata": {},
     "output_type": "execute_result"
    }
   ],
   "source": [
    "birth_attrs"
   ]
  },
  {
   "cell_type": "code",
   "execution_count": 53,
   "metadata": {},
   "outputs": [],
   "source": [
    "death_attrs = set(arg_df[arg_df[2] == \"E69_Death\"][1])\n",
    "acq_attrs = set(arg_df[arg_df[2] == \"E8_Acquisiton\"][1])\n",
    "pro_attrs = set(arg_df[arg_df[2] == \"E12_Produciton\"][1])"
   ]
  },
  {
   "cell_type": "code",
   "execution_count": 54,
   "metadata": {},
   "outputs": [
    {
     "data": {
      "text/plain": [
       "{'Artist Death Date',\n",
       " 'ArtistDiedDate',\n",
       " 'DeathDate',\n",
       " 'End Date',\n",
       " 'Maker Death Date',\n",
       " 'artist_death',\n",
       " 'death',\n",
       " 'deathDate',\n",
       " 'deathYear',\n",
       " 'death_date',\n",
       " 'death_year'}"
      ]
     },
     "execution_count": 54,
     "metadata": {},
     "output_type": "execute_result"
    }
   ],
   "source": [
    "death_attrs"
   ]
  },
  {
   "cell_type": "code",
   "execution_count": 55,
   "metadata": {},
   "outputs": [
    {
     "data": {
      "text/plain": [
       "{'AquisitionDate', 'when-acquired'}"
      ]
     },
     "execution_count": 55,
     "metadata": {},
     "output_type": "execute_result"
    }
   ],
   "source": [
    "acq_attrs"
   ]
  },
  {
   "cell_type": "code",
   "execution_count": 56,
   "metadata": {},
   "outputs": [
    {
     "data": {
      "text/plain": [
       "{'Artwork_Year',\n",
       " 'Date',\n",
       " 'DateOfWork',\n",
       " 'Date_made',\n",
       " 'Dated',\n",
       " 'Object Earliest Date',\n",
       " 'Object Latest Date',\n",
       " 'Production_Year',\n",
       " 'artyear',\n",
       " 'creationDate',\n",
       " 'date',\n",
       " 'dateOfEndOfCreation',\n",
       " 'dateOfStartOfCreation',\n",
       " 'date_made',\n",
       " 'dates',\n",
       " 'made',\n",
       " 'year'}"
      ]
     },
     "execution_count": 56,
     "metadata": {},
     "output_type": "execute_result"
    }
   ],
   "source": [
    "pro_attrs"
   ]
  },
  {
   "cell_type": "code",
   "execution_count": 58,
   "metadata": {},
   "outputs": [],
   "source": [
    "for ds_name,df in zip(ds_names,datas):\n",
    "    for attr in birth_attrs:\n",
    "        try:\n",
    "            df[attr].to_csv(f\"../E52_Time-Span/{ds_name}_{attr}_E67.txt\", index=False)\n",
    "            break\n",
    "        except Exception:\n",
    "            pass\n",
    "        \n",
    "for ds_name,df in zip(ds_names,datas):\n",
    "    for attr in death_attrs:\n",
    "        try:\n",
    "            df[attr].to_csv(f\"../E52_Time-Span/{ds_name}_{attr}_E69.txt\", index=False)\n",
    "            break\n",
    "        except Exception:\n",
    "            pass\n",
    "        \n",
    "for ds_name,df in zip(ds_names,datas):\n",
    "    for attr in acq_attrs:\n",
    "        try:\n",
    "            df[attr].to_csv(f\"../E52_Time-Span/{ds_name}_{attr}_E8.txt\", index=False)\n",
    "            break\n",
    "        except Exception:\n",
    "            pass\n",
    "        \n",
    "for ds_name,df in zip(ds_names,datas):\n",
    "    for attr in pro_attrs:\n",
    "        try:\n",
    "            df[attr].to_csv(f\"../E52_Time-Span/{ds_name}_{attr}_E12.txt\", index=False)\n",
    "            break\n",
    "        except Exception:\n",
    "            pass"
   ]
  },
  {
   "cell_type": "code",
   "execution_count": 61,
   "metadata": {},
   "outputs": [
    {
     "data": {
      "text/plain": [
       "'abc'"
      ]
     },
     "execution_count": 61,
     "metadata": {},
     "output_type": "execute_result"
    }
   ],
   "source": [
    "s06[\"Title\"].to_csv(\"../E\")"
   ]
  },
  {
   "cell_type": "code",
   "execution_count": null,
   "metadata": {},
   "outputs": [],
   "source": []
  }
 ],
 "metadata": {
  "kernelspec": {
   "display_name": "Python 3 (ipykernel)",
   "language": "python",
   "name": "python3"
  },
  "language_info": {
   "codemirror_mode": {
    "name": "ipython",
    "version": 3
   },
   "file_extension": ".py",
   "mimetype": "text/x-python",
   "name": "python",
   "nbconvert_exporter": "python",
   "pygments_lexer": "ipython3",
   "version": "3.8.9"
  }
 },
 "nbformat": 4,
 "nbformat_minor": 2
}
